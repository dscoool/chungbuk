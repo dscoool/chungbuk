{
  "cells": [
    {
      "cell_type": "markdown",
      "metadata": {
        "id": "view-in-github",
        "colab_type": "text"
      },
      "source": [
        "<a href=\"https://colab.research.google.com/github/dscoool/chungbuk/blob/main/titanic.ipynb\" target=\"_parent\"><img src=\"https://colab.research.google.com/assets/colab-badge.svg\" alt=\"Open In Colab\"/></a>"
      ]
    },
    {
      "cell_type": "markdown",
      "metadata": {
        "id": "ZQfmmg5pJn_2"
      },
      "source": [
        "## 데이터 전처리 Data Preprocessing 와 기계학습\n",
        "\n",
        "수강생 여러분 안녕하세요? \n",
        "이번 시간에는 titanic.csv 데이터셋을 이용해서 </br>\n",
        "a. 간단한 데이터 전처리 </br>\n",
        "b. 데이터 시각화(차트 그리기) </br> \n",
        "c. 데이터 분석(Data Analysis, 통계 지표 구하기) </br>\n",
        "d. 학습/테스트 데이터셋 나누기 </br>\n",
        "e. 기계학습(keras, tensorflow)으로 모델 학습 및 값 예측하기 </br>\n",
        "f. 인공신경망(뉴럴네트워크, Neural Network)으로 모델 학습 및 값 예측하기 </br>\n",
        "\n",
        "를 실습해 보도록 하겠습니다!!\n",
        "이론적인 지식과 잘 매칭해 보시고, 우선 keras와 tensorflow를 돌려 보는 것을\n",
        "목표로 하도록 할게요!!\n",
        "\n",
        "그럼 시작해 볼까요? \n",
        "\n",
        "[Reference: https://code.visualstudio.com/docs/datascience/data-science-tutorial]\n"
      ]
    },
    {
      "cell_type": "markdown",
      "metadata": {
        "id": "SIOvXXGwJn_-"
      },
      "source": [
        "* titanic3.csv를 다운로드받아 .ipynb 동일 폴더로 복사합시다.\n",
        "파일을 'data'라는 변수에 불러옵니다.\n",
        "\n",
        "* 다운로드:   https://hbiostat.org/data/repo/titanic3.csv\n",
        "\n",
        "* 필요한 경우 !pip install pandas numpy 명령어를 통해 pandas와 numpy를 설치해 주세요!!"
      ]
    },
    {
      "cell_type": "code",
      "execution_count": 1,
      "metadata": {
        "id": "g9ri-Q45Jn__"
      },
      "outputs": [],
      "source": [
        "# !pip install pandas numpy\n",
        "import pandas as pd\n",
        "import numpy as np\n",
        "data = pd.read_csv('http://raw.githubusercontent.com/dscoool/chungbuk/main/titanic3.csv')"
      ]
    },
    {
      "cell_type": "markdown",
      "metadata": {
        "id": "ILC1tkeeJoAC"
      },
      "source": [
        "VARIABLES 탭( {x} )의 'DATA'를 클릭하여 데이터를 확인합시다!!\n",
        "-> DATA 더블클릭!!\n"
      ]
    },
    {
      "cell_type": "code",
      "source": [
        "data"
      ],
      "metadata": {
        "colab": {
          "base_uri": "https://localhost:8080/",
          "height": 852
        },
        "id": "35izIFNLRGqB",
        "outputId": "15e78ef5-ff2e-47cf-a99f-c87050214197"
      },
      "execution_count": 4,
      "outputs": [
        {
          "output_type": "execute_result",
          "data": {
            "text/plain": [
              "      pclass  survived                                             name  \\\n",
              "0          1         1                    Allen, Miss. Elisabeth Walton   \n",
              "1          1         1                   Allison, Master. Hudson Trevor   \n",
              "2          1         0                     Allison, Miss. Helen Loraine   \n",
              "3          1         0             Allison, Mr. Hudson Joshua Creighton   \n",
              "4          1         0  Allison, Mrs. Hudson J C (Bessie Waldo Daniels)   \n",
              "...      ...       ...                                              ...   \n",
              "1304       3         0                             Zabour, Miss. Hileni   \n",
              "1305       3         0                            Zabour, Miss. Thamine   \n",
              "1306       3         0                        Zakarian, Mr. Mapriededer   \n",
              "1307       3         0                              Zakarian, Mr. Ortin   \n",
              "1308       3         0                               Zimmerman, Mr. Leo   \n",
              "\n",
              "         sex    age  sibsp  parch  ticket      fare    cabin embarked boat  \\\n",
              "0     female  29.00      0      0   24160  211.3375       B5        S    2   \n",
              "1       male   0.92      1      2  113781  151.5500  C22 C26        S   11   \n",
              "2     female   2.00      1      2  113781  151.5500  C22 C26        S  NaN   \n",
              "3       male  30.00      1      2  113781  151.5500  C22 C26        S  NaN   \n",
              "4     female  25.00      1      2  113781  151.5500  C22 C26        S  NaN   \n",
              "...      ...    ...    ...    ...     ...       ...      ...      ...  ...   \n",
              "1304  female  14.50      1      0    2665   14.4542      NaN        C  NaN   \n",
              "1305  female    NaN      1      0    2665   14.4542      NaN        C  NaN   \n",
              "1306    male  26.50      0      0    2656    7.2250      NaN        C  NaN   \n",
              "1307    male  27.00      0      0    2670    7.2250      NaN        C  NaN   \n",
              "1308    male  29.00      0      0  315082    7.8750      NaN        S  NaN   \n",
              "\n",
              "       body                        home.dest  \n",
              "0       NaN                     St Louis, MO  \n",
              "1       NaN  Montreal, PQ / Chesterville, ON  \n",
              "2       NaN  Montreal, PQ / Chesterville, ON  \n",
              "3     135.0  Montreal, PQ / Chesterville, ON  \n",
              "4       NaN  Montreal, PQ / Chesterville, ON  \n",
              "...     ...                              ...  \n",
              "1304  328.0                              NaN  \n",
              "1305    NaN                              NaN  \n",
              "1306  304.0                              NaN  \n",
              "1307    NaN                              NaN  \n",
              "1308    NaN                              NaN  \n",
              "\n",
              "[1309 rows x 14 columns]"
            ],
            "text/html": [
              "\n",
              "  <div id=\"df-d6fa41e0-7a87-481f-ae32-73d6b0c65b84\">\n",
              "    <div class=\"colab-df-container\">\n",
              "      <div>\n",
              "<style scoped>\n",
              "    .dataframe tbody tr th:only-of-type {\n",
              "        vertical-align: middle;\n",
              "    }\n",
              "\n",
              "    .dataframe tbody tr th {\n",
              "        vertical-align: top;\n",
              "    }\n",
              "\n",
              "    .dataframe thead th {\n",
              "        text-align: right;\n",
              "    }\n",
              "</style>\n",
              "<table border=\"1\" class=\"dataframe\">\n",
              "  <thead>\n",
              "    <tr style=\"text-align: right;\">\n",
              "      <th></th>\n",
              "      <th>pclass</th>\n",
              "      <th>survived</th>\n",
              "      <th>name</th>\n",
              "      <th>sex</th>\n",
              "      <th>age</th>\n",
              "      <th>sibsp</th>\n",
              "      <th>parch</th>\n",
              "      <th>ticket</th>\n",
              "      <th>fare</th>\n",
              "      <th>cabin</th>\n",
              "      <th>embarked</th>\n",
              "      <th>boat</th>\n",
              "      <th>body</th>\n",
              "      <th>home.dest</th>\n",
              "    </tr>\n",
              "  </thead>\n",
              "  <tbody>\n",
              "    <tr>\n",
              "      <th>0</th>\n",
              "      <td>1</td>\n",
              "      <td>1</td>\n",
              "      <td>Allen, Miss. Elisabeth Walton</td>\n",
              "      <td>female</td>\n",
              "      <td>29.00</td>\n",
              "      <td>0</td>\n",
              "      <td>0</td>\n",
              "      <td>24160</td>\n",
              "      <td>211.3375</td>\n",
              "      <td>B5</td>\n",
              "      <td>S</td>\n",
              "      <td>2</td>\n",
              "      <td>NaN</td>\n",
              "      <td>St Louis, MO</td>\n",
              "    </tr>\n",
              "    <tr>\n",
              "      <th>1</th>\n",
              "      <td>1</td>\n",
              "      <td>1</td>\n",
              "      <td>Allison, Master. Hudson Trevor</td>\n",
              "      <td>male</td>\n",
              "      <td>0.92</td>\n",
              "      <td>1</td>\n",
              "      <td>2</td>\n",
              "      <td>113781</td>\n",
              "      <td>151.5500</td>\n",
              "      <td>C22 C26</td>\n",
              "      <td>S</td>\n",
              "      <td>11</td>\n",
              "      <td>NaN</td>\n",
              "      <td>Montreal, PQ / Chesterville, ON</td>\n",
              "    </tr>\n",
              "    <tr>\n",
              "      <th>2</th>\n",
              "      <td>1</td>\n",
              "      <td>0</td>\n",
              "      <td>Allison, Miss. Helen Loraine</td>\n",
              "      <td>female</td>\n",
              "      <td>2.00</td>\n",
              "      <td>1</td>\n",
              "      <td>2</td>\n",
              "      <td>113781</td>\n",
              "      <td>151.5500</td>\n",
              "      <td>C22 C26</td>\n",
              "      <td>S</td>\n",
              "      <td>NaN</td>\n",
              "      <td>NaN</td>\n",
              "      <td>Montreal, PQ / Chesterville, ON</td>\n",
              "    </tr>\n",
              "    <tr>\n",
              "      <th>3</th>\n",
              "      <td>1</td>\n",
              "      <td>0</td>\n",
              "      <td>Allison, Mr. Hudson Joshua Creighton</td>\n",
              "      <td>male</td>\n",
              "      <td>30.00</td>\n",
              "      <td>1</td>\n",
              "      <td>2</td>\n",
              "      <td>113781</td>\n",
              "      <td>151.5500</td>\n",
              "      <td>C22 C26</td>\n",
              "      <td>S</td>\n",
              "      <td>NaN</td>\n",
              "      <td>135.0</td>\n",
              "      <td>Montreal, PQ / Chesterville, ON</td>\n",
              "    </tr>\n",
              "    <tr>\n",
              "      <th>4</th>\n",
              "      <td>1</td>\n",
              "      <td>0</td>\n",
              "      <td>Allison, Mrs. Hudson J C (Bessie Waldo Daniels)</td>\n",
              "      <td>female</td>\n",
              "      <td>25.00</td>\n",
              "      <td>1</td>\n",
              "      <td>2</td>\n",
              "      <td>113781</td>\n",
              "      <td>151.5500</td>\n",
              "      <td>C22 C26</td>\n",
              "      <td>S</td>\n",
              "      <td>NaN</td>\n",
              "      <td>NaN</td>\n",
              "      <td>Montreal, PQ / Chesterville, ON</td>\n",
              "    </tr>\n",
              "    <tr>\n",
              "      <th>...</th>\n",
              "      <td>...</td>\n",
              "      <td>...</td>\n",
              "      <td>...</td>\n",
              "      <td>...</td>\n",
              "      <td>...</td>\n",
              "      <td>...</td>\n",
              "      <td>...</td>\n",
              "      <td>...</td>\n",
              "      <td>...</td>\n",
              "      <td>...</td>\n",
              "      <td>...</td>\n",
              "      <td>...</td>\n",
              "      <td>...</td>\n",
              "      <td>...</td>\n",
              "    </tr>\n",
              "    <tr>\n",
              "      <th>1304</th>\n",
              "      <td>3</td>\n",
              "      <td>0</td>\n",
              "      <td>Zabour, Miss. Hileni</td>\n",
              "      <td>female</td>\n",
              "      <td>14.50</td>\n",
              "      <td>1</td>\n",
              "      <td>0</td>\n",
              "      <td>2665</td>\n",
              "      <td>14.4542</td>\n",
              "      <td>NaN</td>\n",
              "      <td>C</td>\n",
              "      <td>NaN</td>\n",
              "      <td>328.0</td>\n",
              "      <td>NaN</td>\n",
              "    </tr>\n",
              "    <tr>\n",
              "      <th>1305</th>\n",
              "      <td>3</td>\n",
              "      <td>0</td>\n",
              "      <td>Zabour, Miss. Thamine</td>\n",
              "      <td>female</td>\n",
              "      <td>NaN</td>\n",
              "      <td>1</td>\n",
              "      <td>0</td>\n",
              "      <td>2665</td>\n",
              "      <td>14.4542</td>\n",
              "      <td>NaN</td>\n",
              "      <td>C</td>\n",
              "      <td>NaN</td>\n",
              "      <td>NaN</td>\n",
              "      <td>NaN</td>\n",
              "    </tr>\n",
              "    <tr>\n",
              "      <th>1306</th>\n",
              "      <td>3</td>\n",
              "      <td>0</td>\n",
              "      <td>Zakarian, Mr. Mapriededer</td>\n",
              "      <td>male</td>\n",
              "      <td>26.50</td>\n",
              "      <td>0</td>\n",
              "      <td>0</td>\n",
              "      <td>2656</td>\n",
              "      <td>7.2250</td>\n",
              "      <td>NaN</td>\n",
              "      <td>C</td>\n",
              "      <td>NaN</td>\n",
              "      <td>304.0</td>\n",
              "      <td>NaN</td>\n",
              "    </tr>\n",
              "    <tr>\n",
              "      <th>1307</th>\n",
              "      <td>3</td>\n",
              "      <td>0</td>\n",
              "      <td>Zakarian, Mr. Ortin</td>\n",
              "      <td>male</td>\n",
              "      <td>27.00</td>\n",
              "      <td>0</td>\n",
              "      <td>0</td>\n",
              "      <td>2670</td>\n",
              "      <td>7.2250</td>\n",
              "      <td>NaN</td>\n",
              "      <td>C</td>\n",
              "      <td>NaN</td>\n",
              "      <td>NaN</td>\n",
              "      <td>NaN</td>\n",
              "    </tr>\n",
              "    <tr>\n",
              "      <th>1308</th>\n",
              "      <td>3</td>\n",
              "      <td>0</td>\n",
              "      <td>Zimmerman, Mr. Leo</td>\n",
              "      <td>male</td>\n",
              "      <td>29.00</td>\n",
              "      <td>0</td>\n",
              "      <td>0</td>\n",
              "      <td>315082</td>\n",
              "      <td>7.8750</td>\n",
              "      <td>NaN</td>\n",
              "      <td>S</td>\n",
              "      <td>NaN</td>\n",
              "      <td>NaN</td>\n",
              "      <td>NaN</td>\n",
              "    </tr>\n",
              "  </tbody>\n",
              "</table>\n",
              "<p>1309 rows × 14 columns</p>\n",
              "</div>\n",
              "      <button class=\"colab-df-convert\" onclick=\"convertToInteractive('df-d6fa41e0-7a87-481f-ae32-73d6b0c65b84')\"\n",
              "              title=\"Convert this dataframe to an interactive table.\"\n",
              "              style=\"display:none;\">\n",
              "        \n",
              "  <svg xmlns=\"http://www.w3.org/2000/svg\" height=\"24px\"viewBox=\"0 0 24 24\"\n",
              "       width=\"24px\">\n",
              "    <path d=\"M0 0h24v24H0V0z\" fill=\"none\"/>\n",
              "    <path d=\"M18.56 5.44l.94 2.06.94-2.06 2.06-.94-2.06-.94-.94-2.06-.94 2.06-2.06.94zm-11 1L8.5 8.5l.94-2.06 2.06-.94-2.06-.94L8.5 2.5l-.94 2.06-2.06.94zm10 10l.94 2.06.94-2.06 2.06-.94-2.06-.94-.94-2.06-.94 2.06-2.06.94z\"/><path d=\"M17.41 7.96l-1.37-1.37c-.4-.4-.92-.59-1.43-.59-.52 0-1.04.2-1.43.59L10.3 9.45l-7.72 7.72c-.78.78-.78 2.05 0 2.83L4 21.41c.39.39.9.59 1.41.59.51 0 1.02-.2 1.41-.59l7.78-7.78 2.81-2.81c.8-.78.8-2.07 0-2.86zM5.41 20L4 18.59l7.72-7.72 1.47 1.35L5.41 20z\"/>\n",
              "  </svg>\n",
              "      </button>\n",
              "      \n",
              "  <style>\n",
              "    .colab-df-container {\n",
              "      display:flex;\n",
              "      flex-wrap:wrap;\n",
              "      gap: 12px;\n",
              "    }\n",
              "\n",
              "    .colab-df-convert {\n",
              "      background-color: #E8F0FE;\n",
              "      border: none;\n",
              "      border-radius: 50%;\n",
              "      cursor: pointer;\n",
              "      display: none;\n",
              "      fill: #1967D2;\n",
              "      height: 32px;\n",
              "      padding: 0 0 0 0;\n",
              "      width: 32px;\n",
              "    }\n",
              "\n",
              "    .colab-df-convert:hover {\n",
              "      background-color: #E2EBFA;\n",
              "      box-shadow: 0px 1px 2px rgba(60, 64, 67, 0.3), 0px 1px 3px 1px rgba(60, 64, 67, 0.15);\n",
              "      fill: #174EA6;\n",
              "    }\n",
              "\n",
              "    [theme=dark] .colab-df-convert {\n",
              "      background-color: #3B4455;\n",
              "      fill: #D2E3FC;\n",
              "    }\n",
              "\n",
              "    [theme=dark] .colab-df-convert:hover {\n",
              "      background-color: #434B5C;\n",
              "      box-shadow: 0px 1px 3px 1px rgba(0, 0, 0, 0.15);\n",
              "      filter: drop-shadow(0px 1px 2px rgba(0, 0, 0, 0.3));\n",
              "      fill: #FFFFFF;\n",
              "    }\n",
              "  </style>\n",
              "\n",
              "      <script>\n",
              "        const buttonEl =\n",
              "          document.querySelector('#df-d6fa41e0-7a87-481f-ae32-73d6b0c65b84 button.colab-df-convert');\n",
              "        buttonEl.style.display =\n",
              "          google.colab.kernel.accessAllowed ? 'block' : 'none';\n",
              "\n",
              "        async function convertToInteractive(key) {\n",
              "          const element = document.querySelector('#df-d6fa41e0-7a87-481f-ae32-73d6b0c65b84');\n",
              "          const dataTable =\n",
              "            await google.colab.kernel.invokeFunction('convertToInteractive',\n",
              "                                                     [key], {});\n",
              "          if (!dataTable) return;\n",
              "\n",
              "          const docLinkHtml = 'Like what you see? Visit the ' +\n",
              "            '<a target=\"_blank\" href=https://colab.research.google.com/notebooks/data_table.ipynb>data table notebook</a>'\n",
              "            + ' to learn more about interactive tables.';\n",
              "          element.innerHTML = '';\n",
              "          dataTable['output_type'] = 'display_data';\n",
              "          await google.colab.output.renderOutput(dataTable, element);\n",
              "          const docLink = document.createElement('div');\n",
              "          docLink.innerHTML = docLinkHtml;\n",
              "          element.appendChild(docLink);\n",
              "        }\n",
              "      </script>\n",
              "    </div>\n",
              "  </div>\n",
              "  "
            ]
          },
          "metadata": {},
          "execution_count": 4
        }
      ]
    },
    {
      "cell_type": "markdown",
      "source": [
        "\n",
        "## 데이터 클렌징(Data Cleansing)\n",
        "\n",
        "자세히 보면 물음표(?) 값이 군데군데 있는 것을 알 수 있습니다. 이를 NaN값으로 바꿔주도록 합시다.\n",
        "그리고 \"age\"열과 \"fare\"열은 float64 형태(소수점 데이터형)으로 변환시켜 줍니다."
      ],
      "metadata": {
        "id": "q7cWUahPRMq9"
      }
    },
    {
      "cell_type": "code",
      "execution_count": 2,
      "metadata": {
        "id": "RHwHqbyQJoAC"
      },
      "outputs": [],
      "source": [
        "data.replace('?', np.nan, inplace= True)\n",
        "data = data.astype({\"age\": np.float64, \"fare\": np.float64})"
      ]
    },
    {
      "cell_type": "markdown",
      "metadata": {
        "id": "-nVcHXCkJoAD"
      },
      "source": [
        "불러온 데이터를 전처리했으니,\n",
        "\n",
        "이것이 대략적으로 어떤 형태를 띠고 있는지 그래프를 그려 봅시다.\n",
        "\n",
        "seaborn이라는 모듈을 이용합니다. (필요시 설치 !pip install seaborn)\n",
        "\n",
        "- violinplot (인구 분포를 그리는 종 모양의 그래프) x 2개\n",
        "- pointplot (x,y값 관계를 보여 주는 점 모양의 그래프) x 3개\n",
        "\n"
      ]
    },
    {
      "cell_type": "code",
      "execution_count": 5,
      "metadata": {
        "id": "pUYb5pe0JoAE",
        "outputId": "239ab46b-ec97-4d0e-dbaf-20435973cdd3",
        "colab": {
          "base_uri": "https://localhost:8080/",
          "height": 159
        }
      },
      "outputs": [
        {
          "output_type": "execute_result",
          "data": {
            "text/plain": [
              "<matplotlib.axes._subplots.AxesSubplot at 0x7fd70db96400>"
            ]
          },
          "metadata": {},
          "execution_count": 5
        },
        {
          "output_type": "display_data",
          "data": {
            "text/plain": [
              "<Figure size 2160x360 with 5 Axes>"
            ],
            "image/png": "[encoded data removed]"
          },
          "metadata": {
            "needs_background": "light"
          }
        }
      ],
      "source": [
        "# !pip install seaborn\n",
        "import seaborn as sns\n",
        "import matplotlib.pyplot as plt\n",
        "\n",
        "fig, axs = plt.subplots(ncols=5, figsize=(30,5))\n",
        "sns.violinplot(x=\"survived\", y=\"age\", hue=\"sex\", data=data, ax=axs[0])\n",
        "sns.pointplot(x=\"sibsp\", y=\"survived\", hue=\"sex\", data=data, ax=axs[1])\n",
        "sns.pointplot(x=\"parch\", y=\"survived\", hue=\"sex\", data=data, ax=axs[2])\n",
        "sns.pointplot(x=\"pclass\", y=\"survived\", hue=\"sex\", data=data, ax=axs[3])\n",
        "sns.violinplot(x=\"survived\", y=\"fare\", hue=\"sex\", data=data, ax=axs[4])"
      ]
    },
    {
      "cell_type": "markdown",
      "metadata": {
        "id": "bouVfKoPJoAF"
      },
      "source": [
        "'male'값을 1로, 'female'값을 0으로 대체시켜 줍시다!!"
      ]
    },
    {
      "cell_type": "code",
      "execution_count": 6,
      "metadata": {
        "id": "WB1TEOWoJoAG"
      },
      "outputs": [],
      "source": [
        "data.replace({'male': 1, 'female': 0}, inplace=True)"
      ]
    },
    {
      "cell_type": "markdown",
      "metadata": {
        "id": "9vCWbU6tJoAH"
      },
      "source": [
        "이제 간단한 데이터 분석(Data Analysis)를 해 봅시다.\n",
        "타이타닉 생존자(survived)와 각 변수 간의 상관관계를 구해 봅시다. (correlation)\n"
      ]
    },
    {
      "cell_type": "code",
      "execution_count": 7,
      "metadata": {
        "id": "cwayJOCYJoAH",
        "outputId": "5fe995cc-4985-4e37-bb0d-86a1ac108fb0",
        "colab": {
          "base_uri": "https://localhost:8080/",
          "height": 300
        }
      },
      "outputs": [
        {
          "output_type": "execute_result",
          "data": {
            "text/plain": [
              "          survived\n",
              "pclass    0.312469\n",
              "survived  1.000000\n",
              "sex       0.528693\n",
              "age       0.055512\n",
              "sibsp     0.027825\n",
              "parch     0.082660\n",
              "fare      0.244265\n",
              "body           NaN"
            ],
            "text/html": [
              "\n",
              "  <div id=\"df-48d625f3-b0db-47b8-8330-3c18f95d5367\">\n",
              "    <div class=\"colab-df-container\">\n",
              "      <div>\n",
              "<style scoped>\n",
              "    .dataframe tbody tr th:only-of-type {\n",
              "        vertical-align: middle;\n",
              "    }\n",
              "\n",
              "    .dataframe tbody tr th {\n",
              "        vertical-align: top;\n",
              "    }\n",
              "\n",
              "    .dataframe thead th {\n",
              "        text-align: right;\n",
              "    }\n",
              "</style>\n",
              "<table border=\"1\" class=\"dataframe\">\n",
              "  <thead>\n",
              "    <tr style=\"text-align: right;\">\n",
              "      <th></th>\n",
              "      <th>survived</th>\n",
              "    </tr>\n",
              "  </thead>\n",
              "  <tbody>\n",
              "    <tr>\n",
              "      <th>pclass</th>\n",
              "      <td>0.312469</td>\n",
              "    </tr>\n",
              "    <tr>\n",
              "      <th>survived</th>\n",
              "      <td>1.000000</td>\n",
              "    </tr>\n",
              "    <tr>\n",
              "      <th>sex</th>\n",
              "      <td>0.528693</td>\n",
              "    </tr>\n",
              "    <tr>\n",
              "      <th>age</th>\n",
              "      <td>0.055512</td>\n",
              "    </tr>\n",
              "    <tr>\n",
              "      <th>sibsp</th>\n",
              "      <td>0.027825</td>\n",
              "    </tr>\n",
              "    <tr>\n",
              "      <th>parch</th>\n",
              "      <td>0.082660</td>\n",
              "    </tr>\n",
              "    <tr>\n",
              "      <th>fare</th>\n",
              "      <td>0.244265</td>\n",
              "    </tr>\n",
              "    <tr>\n",
              "      <th>body</th>\n",
              "      <td>NaN</td>\n",
              "    </tr>\n",
              "  </tbody>\n",
              "</table>\n",
              "</div>\n",
              "      <button class=\"colab-df-convert\" onclick=\"convertToInteractive('df-48d625f3-b0db-47b8-8330-3c18f95d5367')\"\n",
              "              title=\"Convert this dataframe to an interactive table.\"\n",
              "              style=\"display:none;\">\n",
              "        \n",
              "  <svg xmlns=\"http://www.w3.org/2000/svg\" height=\"24px\"viewBox=\"0 0 24 24\"\n",
              "       width=\"24px\">\n",
              "    <path d=\"M0 0h24v24H0V0z\" fill=\"none\"/>\n",
              "    <path d=\"M18.56 5.44l.94 2.06.94-2.06 2.06-.94-2.06-.94-.94-2.06-.94 2.06-2.06.94zm-11 1L8.5 8.5l.94-2.06 2.06-.94-2.06-.94L8.5 2.5l-.94 2.06-2.06.94zm10 10l.94 2.06.94-2.06 2.06-.94-2.06-.94-.94-2.06-.94 2.06-2.06.94z\"/><path d=\"M17.41 7.96l-1.37-1.37c-.4-.4-.92-.59-1.43-.59-.52 0-1.04.2-1.43.59L10.3 9.45l-7.72 7.72c-.78.78-.78 2.05 0 2.83L4 21.41c.39.39.9.59 1.41.59.51 0 1.02-.2 1.41-.59l7.78-7.78 2.81-2.81c.8-.78.8-2.07 0-2.86zM5.41 20L4 18.59l7.72-7.72 1.47 1.35L5.41 20z\"/>\n",
              "  </svg>\n",
              "      </button>\n",
              "      \n",
              "  <style>\n",
              "    .colab-df-container {\n",
              "      display:flex;\n",
              "      flex-wrap:wrap;\n",
              "      gap: 12px;\n",
              "    }\n",
              "\n",
              "    .colab-df-convert {\n",
              "      background-color: #E8F0FE;\n",
              "      border: none;\n",
              "      border-radius: 50%;\n",
              "      cursor: pointer;\n",
              "      display: none;\n",
              "      fill: #1967D2;\n",
              "      height: 32px;\n",
              "      padding: 0 0 0 0;\n",
              "      width: 32px;\n",
              "    }\n",
              "\n",
              "    .colab-df-convert:hover {\n",
              "      background-color: #E2EBFA;\n",
              "      box-shadow: 0px 1px 2px rgba(60, 64, 67, 0.3), 0px 1px 3px 1px rgba(60, 64, 67, 0.15);\n",
              "      fill: #174EA6;\n",
              "    }\n",
              "\n",
              "    [theme=dark] .colab-df-convert {\n",
              "      background-color: #3B4455;\n",
              "      fill: #D2E3FC;\n",
              "    }\n",
              "\n",
              "    [theme=dark] .colab-df-convert:hover {\n",
              "      background-color: #434B5C;\n",
              "      box-shadow: 0px 1px 3px 1px rgba(0, 0, 0, 0.15);\n",
              "      filter: drop-shadow(0px 1px 2px rgba(0, 0, 0, 0.3));\n",
              "      fill: #FFFFFF;\n",
              "    }\n",
              "  </style>\n",
              "\n",
              "      <script>\n",
              "        const buttonEl =\n",
              "          document.querySelector('#df-48d625f3-b0db-47b8-8330-3c18f95d5367 button.colab-df-convert');\n",
              "        buttonEl.style.display =\n",
              "          google.colab.kernel.accessAllowed ? 'block' : 'none';\n",
              "\n",
              "        async function convertToInteractive(key) {\n",
              "          const element = document.querySelector('#df-48d625f3-b0db-47b8-8330-3c18f95d5367');\n",
              "          const dataTable =\n",
              "            await google.colab.kernel.invokeFunction('convertToInteractive',\n",
              "                                                     [key], {});\n",
              "          if (!dataTable) return;\n",
              "\n",
              "          const docLinkHtml = 'Like what you see? Visit the ' +\n",
              "            '<a target=\"_blank\" href=https://colab.research.google.com/notebooks/data_table.ipynb>data table notebook</a>'\n",
              "            + ' to learn more about interactive tables.';\n",
              "          element.innerHTML = '';\n",
              "          dataTable['output_type'] = 'display_data';\n",
              "          await google.colab.output.renderOutput(dataTable, element);\n",
              "          const docLink = document.createElement('div');\n",
              "          docLink.innerHTML = docLinkHtml;\n",
              "          element.appendChild(docLink);\n",
              "        }\n",
              "      </script>\n",
              "    </div>\n",
              "  </div>\n",
              "  "
            ]
          },
          "metadata": {},
          "execution_count": 7
        }
      ],
      "source": [
        "data.corr().abs()[[\"survived\"]]"
      ]
    },
    {
      "cell_type": "markdown",
      "metadata": {
        "id": "ifu7D2aHJoAI"
      },
      "source": [
        "데이터 분석을 계속해 봅시다!!\n",
        "'relatives'(친척) 열을 추가하기 위해, 'sibsp'열과 'parch'열을 더해서 0이 넘으면 1로 표기,\n",
        "0이 넘지 않으면(음수이면) 0으로 표기하는 'relatives'열을 새로 생성합니다.\n",
        "\n",
        "다시 위에서 시행했던 'survived'행과의 상관관계를 구해 봅시다!!"
      ]
    },
    {
      "cell_type": "code",
      "execution_count": 8,
      "metadata": {
        "id": "oB-lZbupJoAJ",
        "outputId": "dc47bab8-1325-491d-d664-50a4ad1f8049",
        "colab": {
          "base_uri": "https://localhost:8080/",
          "height": 332
        }
      },
      "outputs": [
        {
          "output_type": "execute_result",
          "data": {
            "text/plain": [
              "           survived\n",
              "pclass     0.312469\n",
              "survived   1.000000\n",
              "sex        0.528693\n",
              "age        0.055512\n",
              "sibsp      0.027825\n",
              "parch      0.082660\n",
              "fare       0.244265\n",
              "body            NaN\n",
              "relatives  0.201719"
            ],
            "text/html": [
              "\n",
              "  <div id=\"df-6b2f055b-94b5-49b0-91ad-82367cdbddb2\">\n",
              "    <div class=\"colab-df-container\">\n",
              "      <div>\n",
              "<style scoped>\n",
              "    .dataframe tbody tr th:only-of-type {\n",
              "        vertical-align: middle;\n",
              "    }\n",
              "\n",
              "    .dataframe tbody tr th {\n",
              "        vertical-align: top;\n",
              "    }\n",
              "\n",
              "    .dataframe thead th {\n",
              "        text-align: right;\n",
              "    }\n",
              "</style>\n",
              "<table border=\"1\" class=\"dataframe\">\n",
              "  <thead>\n",
              "    <tr style=\"text-align: right;\">\n",
              "      <th></th>\n",
              "      <th>survived</th>\n",
              "    </tr>\n",
              "  </thead>\n",
              "  <tbody>\n",
              "    <tr>\n",
              "      <th>pclass</th>\n",
              "      <td>0.312469</td>\n",
              "    </tr>\n",
              "    <tr>\n",
              "      <th>survived</th>\n",
              "      <td>1.000000</td>\n",
              "    </tr>\n",
              "    <tr>\n",
              "      <th>sex</th>\n",
              "      <td>0.528693</td>\n",
              "    </tr>\n",
              "    <tr>\n",
              "      <th>age</th>\n",
              "      <td>0.055512</td>\n",
              "    </tr>\n",
              "    <tr>\n",
              "      <th>sibsp</th>\n",
              "      <td>0.027825</td>\n",
              "    </tr>\n",
              "    <tr>\n",
              "      <th>parch</th>\n",
              "      <td>0.082660</td>\n",
              "    </tr>\n",
              "    <tr>\n",
              "      <th>fare</th>\n",
              "      <td>0.244265</td>\n",
              "    </tr>\n",
              "    <tr>\n",
              "      <th>body</th>\n",
              "      <td>NaN</td>\n",
              "    </tr>\n",
              "    <tr>\n",
              "      <th>relatives</th>\n",
              "      <td>0.201719</td>\n",
              "    </tr>\n",
              "  </tbody>\n",
              "</table>\n",
              "</div>\n",
              "      <button class=\"colab-df-convert\" onclick=\"convertToInteractive('df-6b2f055b-94b5-49b0-91ad-82367cdbddb2')\"\n",
              "              title=\"Convert this dataframe to an interactive table.\"\n",
              "              style=\"display:none;\">\n",
              "        \n",
              "  <svg xmlns=\"http://www.w3.org/2000/svg\" height=\"24px\"viewBox=\"0 0 24 24\"\n",
              "       width=\"24px\">\n",
              "    <path d=\"M0 0h24v24H0V0z\" fill=\"none\"/>\n",
              "    <path d=\"M18.56 5.44l.94 2.06.94-2.06 2.06-.94-2.06-.94-.94-2.06-.94 2.06-2.06.94zm-11 1L8.5 8.5l.94-2.06 2.06-.94-2.06-.94L8.5 2.5l-.94 2.06-2.06.94zm10 10l.94 2.06.94-2.06 2.06-.94-2.06-.94-.94-2.06-.94 2.06-2.06.94z\"/><path d=\"M17.41 7.96l-1.37-1.37c-.4-.4-.92-.59-1.43-.59-.52 0-1.04.2-1.43.59L10.3 9.45l-7.72 7.72c-.78.78-.78 2.05 0 2.83L4 21.41c.39.39.9.59 1.41.59.51 0 1.02-.2 1.41-.59l7.78-7.78 2.81-2.81c.8-.78.8-2.07 0-2.86zM5.41 20L4 18.59l7.72-7.72 1.47 1.35L5.41 20z\"/>\n",
              "  </svg>\n",
              "      </button>\n",
              "      \n",
              "  <style>\n",
              "    .colab-df-container {\n",
              "      display:flex;\n",
              "      flex-wrap:wrap;\n",
              "      gap: 12px;\n",
              "    }\n",
              "\n",
              "    .colab-df-convert {\n",
              "      background-color: #E8F0FE;\n",
              "      border: none;\n",
              "      border-radius: 50%;\n",
              "      cursor: pointer;\n",
              "      display: none;\n",
              "      fill: #1967D2;\n",
              "      height: 32px;\n",
              "      padding: 0 0 0 0;\n",
              "      width: 32px;\n",
              "    }\n",
              "\n",
              "    .colab-df-convert:hover {\n",
              "      background-color: #E2EBFA;\n",
              "      box-shadow: 0px 1px 2px rgba(60, 64, 67, 0.3), 0px 1px 3px 1px rgba(60, 64, 67, 0.15);\n",
              "      fill: #174EA6;\n",
              "    }\n",
              "\n",
              "    [theme=dark] .colab-df-convert {\n",
              "      background-color: #3B4455;\n",
              "      fill: #D2E3FC;\n",
              "    }\n",
              "\n",
              "    [theme=dark] .colab-df-convert:hover {\n",
              "      background-color: #434B5C;\n",
              "      box-shadow: 0px 1px 3px 1px rgba(0, 0, 0, 0.15);\n",
              "      filter: drop-shadow(0px 1px 2px rgba(0, 0, 0, 0.3));\n",
              "      fill: #FFFFFF;\n",
              "    }\n",
              "  </style>\n",
              "\n",
              "      <script>\n",
              "        const buttonEl =\n",
              "          document.querySelector('#df-6b2f055b-94b5-49b0-91ad-82367cdbddb2 button.colab-df-convert');\n",
              "        buttonEl.style.display =\n",
              "          google.colab.kernel.accessAllowed ? 'block' : 'none';\n",
              "\n",
              "        async function convertToInteractive(key) {\n",
              "          const element = document.querySelector('#df-6b2f055b-94b5-49b0-91ad-82367cdbddb2');\n",
              "          const dataTable =\n",
              "            await google.colab.kernel.invokeFunction('convertToInteractive',\n",
              "                                                     [key], {});\n",
              "          if (!dataTable) return;\n",
              "\n",
              "          const docLinkHtml = 'Like what you see? Visit the ' +\n",
              "            '<a target=\"_blank\" href=https://colab.research.google.com/notebooks/data_table.ipynb>data table notebook</a>'\n",
              "            + ' to learn more about interactive tables.';\n",
              "          element.innerHTML = '';\n",
              "          dataTable['output_type'] = 'display_data';\n",
              "          await google.colab.output.renderOutput(dataTable, element);\n",
              "          const docLink = document.createElement('div');\n",
              "          docLink.innerHTML = docLinkHtml;\n",
              "          element.appendChild(docLink);\n",
              "        }\n",
              "      </script>\n",
              "    </div>\n",
              "  </div>\n",
              "  "
            ]
          },
          "metadata": {},
          "execution_count": 8
        }
      ],
      "source": [
        "data['relatives'] = data.apply (lambda row: int((row['sibsp'] + row['parch']) > 0), axis=1)\n",
        "data.corr().abs()[[\"survived\"]]"
      ]
    },
    {
      "cell_type": "markdown",
      "metadata": {
        "id": "NbJkSCtfJoAK"
      },
      "source": [
        "데이터프레임 'data'의 'sex', 'pclass','age','relatives','fare','survived' 열의 NaN 값을 모두 제거해 줍니다!!"
      ]
    },
    {
      "cell_type": "code",
      "execution_count": 9,
      "metadata": {
        "id": "MaaQJAFRJoAK"
      },
      "outputs": [],
      "source": [
        "data = data[['sex', 'pclass','age','relatives','fare','survived']].dropna()"
      ]
    },
    {
      "cell_type": "markdown",
      "metadata": {
        "id": "UxbteeWbJoAL"
      },
      "source": [
        "이제 간단한 기계학습(머신러닝, Machine Learning)을 돌려 봅시다!!\n",
        "\n",
        "데이터셋을 8:2로 나누어서, 8은 기계학습 모델을 학습시키는 데에, \n",
        "\n",
        "2는 학습된 기계학습 모델을 사용하여 어떤 사람이 생존할 것인지 아닐 것인지를 '예측'하는 데 사용해 보도록 합시다!!\n"
      ]
    },
    {
      "cell_type": "markdown",
      "metadata": {
        "id": "te9jjCf1JoAL"
      },
      "source": [
        "아래와 같이 Scikit_learn (sklearn)모듈을 사용하여\n",
        "x, y 데이터를 각각 train (학습)과 test(테스트, 예측)로 나눠 보도록 합시다.\n",
        "train dataset과 test dataset의 비율은 8:2 입니다."
      ]
    },
    {
      "cell_type": "code",
      "execution_count": 10,
      "metadata": {
        "id": "RYDxhFB4JoAM"
      },
      "outputs": [],
      "source": [
        "# !pip install sklearn\n",
        "from sklearn.model_selection import train_test_split\n",
        "x_train, x_test, y_train, y_test = train_test_split(data[['sex','pclass','age','relatives','fare']], data.survived, test_size=0.2, random_state=0)"
      ]
    },
    {
      "cell_type": "markdown",
      "metadata": {
        "id": "ZGceJ38IJoAM"
      },
      "source": [
        "x_train열과 x_test열을 normalise(정규분포로 바꿈) 해봅시다!!\n",
        "X_Train (대문자 X)는 x_train 테이블을 범위가 일정하도록 교정한 것입니다.\n",
        "Y_Train (대문자 X)는 y_train 테이블을 범위가 일정하도록 교정한 것입니다.\n",
        "\n",
        "\n",
        "아래 JUPYTER:VARIABLES를 클릭하여 확인해 보세요!!"
      ]
    },
    {
      "cell_type": "markdown",
      "metadata": {
        "id": "z5utxzjiJoAN"
      },
      "source": [
        "###### (Next, you'll normalize the inputs such that all features are treated equally. For example, within the dataset the values for age range from ~0-100, while gender is only a 1 or 0. By normalizing all the variables, you can ensure that the ranges of values are all the same. Use the following code in a new code cell to scale the input values.)"
      ]
    },
    {
      "cell_type": "code",
      "execution_count": 11,
      "metadata": {
        "id": "VdSqbOrrJoAN"
      },
      "outputs": [],
      "source": [
        "from sklearn.preprocessing import StandardScaler\n",
        "sc = StandardScaler()\n",
        "X_train = sc.fit_transform(x_train)\n",
        "X_test = sc.transform(x_test)"
      ]
    },
    {
      "cell_type": "markdown",
      "metadata": {
        "id": "CovEbTr8JoAN"
      },
      "source": [
        "자, 이제 Gaussian Naive Bayes 모델을 사용하여\n",
        "\n",
        "모델을 학습시켜 봅시다!!\n",
        "\n",
        "전처리한 X_train, y_train 데이터셋을 입력하여(feeding, 데이터를 먹이다 라는 뜻을 가지고 있음) 기계학습 모델을 학습시켜 줍니다. (Machine Learning!! :)\n",
        "\n",
        "* Gaussian Naive Bayes 이론 참고자료: https://topo314.tistory.com/72"
      ]
    },
    {
      "cell_type": "code",
      "execution_count": 12,
      "metadata": {
        "id": "Uu4MdXriJoAO",
        "outputId": "c59d1795-0737-432c-f644-e0fa1bd887f2",
        "colab": {
          "base_uri": "https://localhost:8080/"
        }
      },
      "outputs": [
        {
          "output_type": "execute_result",
          "data": {
            "text/plain": [
              "GaussianNB()"
            ]
          },
          "metadata": {},
          "execution_count": 12
        }
      ],
      "source": [
        "from sklearn.naive_bayes import GaussianNB\n",
        "model = GaussianNB()\n",
        "model.fit(X_train, y_train)\n",
        "#학습 완료되면 모델이 아래 표시됩니다!!"
      ]
    },
    {
      "cell_type": "markdown",
      "metadata": {
        "id": "0NSuTwzdJoAP"
      },
      "source": [
        "앞에서 80%의 데이터셋은 학습을 하는 데 사용하고,\n",
        "나머지 20%의 데이터셋은 완성된 모델이 잘 맞는지 정확도를 측정하기 위해\n",
        "테스트하는 데 사용하도록 나누어 두었습니다!!\n",
        "\n",
        "이제 학습 단계에서 사용하지 않은 테스트 데이터셋을(test dataset)\n",
        "사용하여 모델이 얼마나 정확한지 테스트를 해 봅시다!!\n"
      ]
    },
    {
      "cell_type": "code",
      "execution_count": null,
      "metadata": {
        "id": "DAKUn5CwJoAP",
        "outputId": "a1ebaaa9-33cf-4207-aeb7-d0ffb0d971a3"
      },
      "outputs": [
        {
          "name": "stdout",
          "output_type": "stream",
          "text": [
            "0.7464114832535885\n"
          ]
        }
      ],
      "source": [
        "from sklearn import metrics\n",
        "predict_test = model.predict(X_test)\n",
        "\n",
        "print(metrics.accuracy_score(y_test, predict_test))\n"
      ]
    },
    {
      "cell_type": "markdown",
      "metadata": {
        "id": "zMrQAYTlJoAQ"
      },
      "source": [
        "* predict_test = 기계가 예측한 값\n",
        "* test 실제 원래 데이터에 존재하던 값\n",
        "*  Σ [(y_test)^2 - (predict_test)^2] / (데이터행의 수)\n",
        "* 이렇게 해서 정확도(accuracy_score를 구합니다)\n",
        "* 참고: https://scikit-learn.org/stable/modules/generated/sklearn.metrics.accuracy_score.html\n"
      ]
    },
    {
      "cell_type": "markdown",
      "metadata": {
        "id": "pXeoZBU4JoAQ"
      },
      "source": [
        "자, 이제는 Gaussian Naive Bayes 외에 인공신경망(Neural Network)모델을 사용하여\n",
        "기계 학습 실습을 더 해 봅시다!!\n",
        "\n",
        "* 원본 문서: https://code.visualstudio.com/docs/datascience/data-science-tutorial"
      ]
    },
    {
      "cell_type": "markdown",
      "metadata": {
        "id": "RroTLUa3JoAQ"
      },
      "source": [
        "* !pip install 명령어를 이용하여 keras와 tensorflow를 설치해 줍시다!!"
      ]
    },
    {
      "cell_type": "markdown",
      "metadata": {
        "id": "jkJFTgHdJoAR"
      },
      "source": [
        "Sequential 모델을 사용하여 간단한 인공신경망을 실행해 봅시다.\n",
        "keras에서 불러와 보도록 할게요!!"
      ]
    },
    {
      "cell_type": "code",
      "execution_count": 13,
      "metadata": {
        "id": "CZX00RrcJoAS"
      },
      "outputs": [],
      "source": [
        "# !pip install keras #keras install\n",
        "# !pip install tensorflow #tensorflow install\n",
        "from keras.models import Sequential\n",
        "from keras.layers import Dense\n",
        "\n",
        "model = Sequential()"
      ]
    },
    {
      "cell_type": "markdown",
      "metadata": {
        "id": "WbPATCUrJoAS"
      },
      "source": [
        "인공신경망 layer (기계학습의 겹)을 지정해 줍니다.\n",
        "값이 5개인 기계학습 모델을 트레이닝시키므로,\n",
        "\n",
        "* 5개의 입력값 - relu\n",
        "\n",
        "* 이어지는 5개의 입력값 - relu\n",
        "\n",
        "* 1개의 출력값 - sigmoid (함수의 형태)\n",
        "\n",
        "으로 구성됩니다.\n"
      ]
    },
    {
      "cell_type": "code",
      "execution_count": 14,
      "metadata": {
        "id": "BfSTKPiLJoAS"
      },
      "outputs": [],
      "source": [
        "model.add(Dense(5, kernel_initializer = 'uniform', activation = 'relu', input_dim = 5))\n",
        "model.add(Dense(5, kernel_initializer = 'uniform', activation = 'relu'))\n",
        "model.add(Dense(1, kernel_initializer = 'uniform', activation = 'sigmoid'))"
      ]
    },
    {
      "cell_type": "markdown",
      "metadata": {
        "id": "0mHMUBZUJoAT"
      },
      "source": [
        "인공신경망(Neural Network) 모델의 형태(가로, 세로, 겹수)를 체크해 봅시다.\n"
      ]
    },
    {
      "cell_type": "markdown",
      "metadata": {
        "id": "0NwN9CbyJoAT"
      },
      "source": [
        "###### (The first layer will be set to have a dimension of 5, since you have five inputs: sex, pclass, age, relatives, and fare. The last layer must output 1, since you want a 1-dimensional output indicating whether a passenger would survive. The middle layer was kept at 5 for simplicity, although that value could have been different.)"
      ]
    },
    {
      "cell_type": "code",
      "execution_count": 15,
      "metadata": {
        "id": "IxhS79wlJoAT",
        "outputId": "b4c2f1cf-9b15-4ca1-bab6-7a92c92dd64d",
        "colab": {
          "base_uri": "https://localhost:8080/"
        }
      },
      "outputs": [
        {
          "output_type": "stream",
          "name": "stdout",
          "text": [
            "Model: \"sequential\"\n",
            "_________________________________________________________________\n",
            " Layer (type)                Output Shape              Param #   \n",
            "=================================================================\n",
            " dense (Dense)               (None, 5)                 30        \n",
            "                                                                 \n",
            " dense_1 (Dense)             (None, 5)                 30        \n",
            "                                                                 \n",
            " dense_2 (Dense)             (None, 1)                 6         \n",
            "                                                                 \n",
            "=================================================================\n",
            "Total params: 66\n",
            "Trainable params: 66\n",
            "Non-trainable params: 0\n",
            "_________________________________________________________________\n"
          ]
        }
      ],
      "source": [
        "model.summary()"
      ]
    },
    {
      "cell_type": "markdown",
      "metadata": {
        "id": "v7rU9DIyJoAU"
      },
      "source": [
        "** 지금은 이해가 덜 되어도, 일단 돌려 보도록 할게요!! :)\n"
      ]
    },
    {
      "cell_type": "markdown",
      "metadata": {
        "id": "Iu5_9XWEJoAU"
      },
      "source": [
        "모델을 피팅(fit)시킵니다.\n",
        "\n",
        "기계학습의 형태를 \n",
        "\n",
        "5 x 30, 5 x 30, 1 x 6 으로 정의했는데,\n",
        "\n",
        "각 뉴런(neuron)간 이어진 가중치(weight, W)를 조금씩 조정해 가며 모델을 학습 시키는 과정을\n",
        "50번 (epoch=50) 반복합니다!!"
      ]
    },
    {
      "cell_type": "code",
      "execution_count": 16,
      "metadata": {
        "id": "8jW_4PCMJoAU",
        "outputId": "2304437f-9f1e-4ad4-f4a8-178e0dc6bd4b",
        "colab": {
          "base_uri": "https://localhost:8080/"
        }
      },
      "outputs": [
        {
          "output_type": "stream",
          "name": "stdout",
          "text": [
            "Epoch 1/50\n",
            "27/27 [==============================] - 2s 47ms/step - loss: 0.6923 - accuracy: 0.5861\n",
            "Epoch 2/50\n",
            "27/27 [==============================] - 0s 2ms/step - loss: 0.6897 - accuracy: 0.5861\n",
            "Epoch 3/50\n",
            "27/27 [==============================] - 0s 2ms/step - loss: 0.6848 - accuracy: 0.5861\n",
            "Epoch 4/50\n",
            "27/27 [==============================] - 0s 2ms/step - loss: 0.6757 - accuracy: 0.5897\n",
            "Epoch 5/50\n",
            "27/27 [==============================] - 0s 2ms/step - loss: 0.6599 - accuracy: 0.6495\n",
            "Epoch 6/50\n",
            "27/27 [==============================] - 0s 2ms/step - loss: 0.6376 - accuracy: 0.7285\n",
            "Epoch 7/50\n",
            "27/27 [==============================] - 0s 2ms/step - loss: 0.6107 - accuracy: 0.7620\n",
            "Epoch 8/50\n",
            "27/27 [==============================] - 0s 2ms/step - loss: 0.5834 - accuracy: 0.7656\n",
            "Epoch 9/50\n",
            "27/27 [==============================] - 0s 2ms/step - loss: 0.5582 - accuracy: 0.7679\n",
            "Epoch 10/50\n",
            "27/27 [==============================] - 0s 2ms/step - loss: 0.5374 - accuracy: 0.7703\n",
            "Epoch 11/50\n",
            "27/27 [==============================] - 0s 2ms/step - loss: 0.5209 - accuracy: 0.7679\n",
            "Epoch 12/50\n",
            "27/27 [==============================] - 0s 2ms/step - loss: 0.5084 - accuracy: 0.7715\n",
            "Epoch 13/50\n",
            "27/27 [==============================] - 0s 2ms/step - loss: 0.4983 - accuracy: 0.7727\n",
            "Epoch 14/50\n",
            "27/27 [==============================] - 0s 2ms/step - loss: 0.4911 - accuracy: 0.7739\n",
            "Epoch 15/50\n",
            "27/27 [==============================] - 0s 3ms/step - loss: 0.4862 - accuracy: 0.7727\n",
            "Epoch 16/50\n",
            "27/27 [==============================] - 0s 2ms/step - loss: 0.4821 - accuracy: 0.7763\n",
            "Epoch 17/50\n",
            "27/27 [==============================] - 0s 2ms/step - loss: 0.4774 - accuracy: 0.7799\n",
            "Epoch 18/50\n",
            "27/27 [==============================] - 0s 2ms/step - loss: 0.4733 - accuracy: 0.7811\n",
            "Epoch 19/50\n",
            "27/27 [==============================] - 0s 2ms/step - loss: 0.4705 - accuracy: 0.7775\n",
            "Epoch 20/50\n",
            "27/27 [==============================] - 0s 2ms/step - loss: 0.4683 - accuracy: 0.7787\n",
            "Epoch 21/50\n",
            "27/27 [==============================] - 0s 2ms/step - loss: 0.4655 - accuracy: 0.7775\n",
            "Epoch 22/50\n",
            "27/27 [==============================] - 0s 2ms/step - loss: 0.4629 - accuracy: 0.7775\n",
            "Epoch 23/50\n",
            "27/27 [==============================] - 0s 2ms/step - loss: 0.4614 - accuracy: 0.7763\n",
            "Epoch 24/50\n",
            "27/27 [==============================] - 0s 2ms/step - loss: 0.4599 - accuracy: 0.7763\n",
            "Epoch 25/50\n",
            "27/27 [==============================] - 0s 2ms/step - loss: 0.4580 - accuracy: 0.7799\n",
            "Epoch 26/50\n",
            "27/27 [==============================] - 0s 2ms/step - loss: 0.4566 - accuracy: 0.7811\n",
            "Epoch 27/50\n",
            "27/27 [==============================] - 0s 2ms/step - loss: 0.4554 - accuracy: 0.7811\n",
            "Epoch 28/50\n",
            "27/27 [==============================] - 0s 2ms/step - loss: 0.4543 - accuracy: 0.7823\n",
            "Epoch 29/50\n",
            "27/27 [==============================] - 0s 2ms/step - loss: 0.4534 - accuracy: 0.7847\n",
            "Epoch 30/50\n",
            "27/27 [==============================] - 0s 2ms/step - loss: 0.4524 - accuracy: 0.7811\n",
            "Epoch 31/50\n",
            "27/27 [==============================] - 0s 2ms/step - loss: 0.4518 - accuracy: 0.7799\n",
            "Epoch 32/50\n",
            "27/27 [==============================] - 0s 2ms/step - loss: 0.4514 - accuracy: 0.7859\n",
            "Epoch 33/50\n",
            "27/27 [==============================] - 0s 2ms/step - loss: 0.4505 - accuracy: 0.7835\n",
            "Epoch 34/50\n",
            "27/27 [==============================] - 0s 2ms/step - loss: 0.4500 - accuracy: 0.7847\n",
            "Epoch 35/50\n",
            "27/27 [==============================] - 0s 2ms/step - loss: 0.4504 - accuracy: 0.7859\n",
            "Epoch 36/50\n",
            "27/27 [==============================] - 0s 2ms/step - loss: 0.4495 - accuracy: 0.7919\n",
            "Epoch 37/50\n",
            "27/27 [==============================] - 0s 2ms/step - loss: 0.4484 - accuracy: 0.7847\n",
            "Epoch 38/50\n",
            "27/27 [==============================] - 0s 2ms/step - loss: 0.4484 - accuracy: 0.7811\n",
            "Epoch 39/50\n",
            "27/27 [==============================] - 0s 2ms/step - loss: 0.4479 - accuracy: 0.7811\n",
            "Epoch 40/50\n",
            "27/27 [==============================] - 0s 2ms/step - loss: 0.4477 - accuracy: 0.7823\n",
            "Epoch 41/50\n",
            "27/27 [==============================] - 0s 2ms/step - loss: 0.4477 - accuracy: 0.7847\n",
            "Epoch 42/50\n",
            "27/27 [==============================] - 1s 36ms/step - loss: 0.4472 - accuracy: 0.7859\n",
            "Epoch 43/50\n",
            "27/27 [==============================] - 0s 2ms/step - loss: 0.4469 - accuracy: 0.7823\n",
            "Epoch 44/50\n",
            "27/27 [==============================] - 1s 36ms/step - loss: 0.4465 - accuracy: 0.7847\n",
            "Epoch 45/50\n",
            "27/27 [==============================] - 0s 2ms/step - loss: 0.4466 - accuracy: 0.7835\n",
            "Epoch 46/50\n",
            "27/27 [==============================] - 0s 3ms/step - loss: 0.4464 - accuracy: 0.7847\n",
            "Epoch 47/50\n",
            "27/27 [==============================] - 0s 2ms/step - loss: 0.4464 - accuracy: 0.7871\n",
            "Epoch 48/50\n",
            "27/27 [==============================] - 0s 2ms/step - loss: 0.4463 - accuracy: 0.7847\n",
            "Epoch 49/50\n",
            "27/27 [==============================] - 0s 2ms/step - loss: 0.4460 - accuracy: 0.7823\n",
            "Epoch 50/50\n",
            "27/27 [==============================] - 0s 2ms/step - loss: 0.4457 - accuracy: 0.7847\n"
          ]
        },
        {
          "output_type": "execute_result",
          "data": {
            "text/plain": [
              "<keras.callbacks.History at 0x7fd6ae7ba0d0>"
            ]
          },
          "metadata": {},
          "execution_count": 16
        }
      ],
      "source": [
        "model.compile(optimizer=\"adam\", loss='binary_crossentropy', metrics=['accuracy'])\n",
        "model.fit(X_train, y_train, batch_size=32, epochs=50)\n",
        "#epoch (학습 회차)가 올라갈수록 정확도가 올라가는 것을 관찰할 수 있어요!!"
      ]
    },
    {
      "cell_type": "markdown",
      "metadata": {
        "id": "R72JX_faJoAV"
      },
      "source": [
        "학습이 끝났으므로,\n",
        "완성된 모델을 사용하여 예측(predict) 해 봅니다!!\n"
      ]
    },
    {
      "cell_type": "markdown",
      "metadata": {
        "id": "JsXKgtpRJoAV"
      },
      "source": [
        "y_test (테스트 데이터셋, 원래 데이터에 존재하던 값)과 y_pred(기계가 예측한 값)을\n",
        "비교하여 정확도를 측정해 봅시다.\n"
      ]
    },
    {
      "cell_type": "code",
      "execution_count": 17,
      "metadata": {
        "id": "K4KMciGqJoAV",
        "outputId": "6e7efab3-9fd1-4df1-c8c3-b5873ed029bc",
        "colab": {
          "base_uri": "https://localhost:8080/",
          "height": 243
        }
      },
      "outputs": [
        {
          "output_type": "stream",
          "name": "stdout",
          "text": [
            "7/7 [==============================] - 1s 200ms/step\n"
          ]
        },
        {
          "output_type": "error",
          "ename": "NameError",
          "evalue": "ignored",
          "traceback": [
            "\u001b[0;31m---------------------------------------------------------------------------\u001b[0m",
            "\u001b[0;31mNameError\u001b[0m                                 Traceback (most recent call last)",
            "\u001b[0;32m<ipython-input-17-c66dc685ca1b>\u001b[0m in \u001b[0;36m<module>\u001b[0;34m\u001b[0m\n\u001b[1;32m      2\u001b[0m \u001b[0my_pred\u001b[0m \u001b[0;34m=\u001b[0m \u001b[0mnp\u001b[0m\u001b[0;34m.\u001b[0m\u001b[0margmax\u001b[0m\u001b[0;34m(\u001b[0m\u001b[0mmodel\u001b[0m\u001b[0;34m.\u001b[0m\u001b[0mpredict\u001b[0m\u001b[0;34m(\u001b[0m\u001b[0mX_test\u001b[0m\u001b[0;34m)\u001b[0m\u001b[0;34m,\u001b[0m \u001b[0maxis\u001b[0m\u001b[0;34m=\u001b[0m\u001b[0;34m-\u001b[0m\u001b[0;36m1\u001b[0m\u001b[0;34m)\u001b[0m\u001b[0;34m\u001b[0m\u001b[0;34m\u001b[0m\u001b[0m\n\u001b[1;32m      3\u001b[0m \u001b[0;31m#새로 예측한 값을 원래 존재하던 데이터와 비교하여 얼마나 정확히 예측했는지 정확도 도출\u001b[0m\u001b[0;34m\u001b[0m\u001b[0;34m\u001b[0m\u001b[0;34m\u001b[0m\u001b[0m\n\u001b[0;32m----> 4\u001b[0;31m \u001b[0mprint\u001b[0m\u001b[0;34m(\u001b[0m\u001b[0mmetrics\u001b[0m\u001b[0;34m.\u001b[0m\u001b[0maccuracy_score\u001b[0m\u001b[0;34m(\u001b[0m\u001b[0my_test\u001b[0m\u001b[0;34m,\u001b[0m \u001b[0my_pred\u001b[0m\u001b[0;34m)\u001b[0m\u001b[0;34m)\u001b[0m\u001b[0;34m\u001b[0m\u001b[0;34m\u001b[0m\u001b[0m\n\u001b[0m",
            "\u001b[0;31mNameError\u001b[0m: name 'metrics' is not defined"
          ]
        }
      ],
      "source": [
        "#예측치 계산\n",
        "y_pred = np.argmax(model.predict(X_test), axis=-1)\n",
        "#새로 예측한 값을 원래 존재하던 데이터와 비교하여 얼마나 정확히 예측했는지 정확도 도출\n",
        "print(metrics.accuracy_score(y_test, y_pred))"
      ]
    },
    {
      "cell_type": "markdown",
      "metadata": {
        "id": "5AdDOtknJoAW"
      },
      "source": [
        "* 이 코드는 MS의 data-science-tutorial을 참고한 것입니다.\n",
        "* 타이타닉 머신러닝, 뉴럴네트워크, 기계학습, 데이터 전처리\n",
        "* Reference:\n",
        "https://code.visualstudio.com/docs/datascience/data-science-tutorial"
      ]
    },
    {
      "cell_type": "markdown",
      "metadata": {
        "id": "zHQ0hgPSJoAW"
      },
      "source": [
        "### 수강생 여러분 수고하셨습니다!!\n",
        "\n",
        "##### 강사 정재민"
      ]
    }
  ],
  "metadata": {
    "kernelspec": {
      "display_name": "Python 3.10.7 64-bit",
      "language": "python",
      "name": "python3"
    },
    "language_info": {
      "codemirror_mode": {
        "name": "ipython",
        "version": 3
      },
      "file_extension": ".py",
      "mimetype": "text/x-python",
      "name": "python",
      "nbconvert_exporter": "python",
      "pygments_lexer": "ipython3",
      "version": "3.10.7"
    },
    "orig_nbformat": 4,
    "vscode": {
      "interpreter": {
        "hash": "aee8b7b246df8f9039afb4144a1f6fd8d2ca17a180786b69acc140d282b71a49"
      }
    },
    "colab": {
      "provenance": [],
      "include_colab_link": true
    }
  },
  "nbformat": 4,
  "nbformat_minor": 0
}