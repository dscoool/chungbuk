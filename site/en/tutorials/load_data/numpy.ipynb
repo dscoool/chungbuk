{
  "cells": [
    {
      "cell_type": "markdown",
      "metadata": {
        "id": "view-in-github",
        "colab_type": "text"
      },
      "source": [
        "<a href=\"https://colab.research.google.com/github/dscoool/chungbuk/blob/main/site/en/tutorials/load_data/numpy.ipynb\" target=\"_parent\"><img src=\"https://colab.research.google.com/assets/colab-badge.svg\" alt=\"Open In Colab\"/></a>"
      ]
    },
    {
      "cell_type": "markdown",
      "metadata": {
        "id": "pixDvex9KBqt"
      },
      "source": [
        "##### Copyright 2019 The TensorFlow Authors."
      ]
    },
    {
      "cell_type": "code",
      "execution_count": null,
      "metadata": {
        "cellView": "form",
        "id": "K16pBM8mKK7a"
      },
      "outputs": [],
      "source": [
        "#@title Licensed under the Apache License, Version 2.0 (the \"License\");\n",
        "# you may not use this file except in compliance with the License.\n",
        "# You may obtain a copy of the License at\n",
        "#\n",
        "# https://www.apache.org/licenses/LICENSE-2.0\n",
        "#\n",
        "# Unless required by applicable law or agreed to in writing, software\n",
        "# distributed under the License is distributed on an \"AS IS\" BASIS,\n",
        "# WITHOUT WARRANTIES OR CONDITIONS OF ANY KIND, either express or implied.\n",
        "# See the License for the specific language governing permissions and\n",
        "# limitations under the License."
      ]
    },
    {
      "cell_type": "markdown",
      "metadata": {
        "id": "TfRdquslKbO3"
      },
      "source": [
        "# Load NumPy data"
      ]
    },
    {
      "cell_type": "markdown",
      "metadata": {
        "id": "-uq3F0ggKlZb"
      },
      "source": [
        "<table class=\"tfo-notebook-buttons\" align=\"left\">\n",
        "  <td>\n",
        "    <a target=\"_blank\" href=\"https://www.tensorflow.org/tutorials/load_data/numpy\"><img src=\"https://www.tensorflow.org/images/tf_logo_32px.png\" />View on TensorFlow.org</a>\n",
        "  </td>\n",
        "  <td>\n",
        "    <a target=\"_blank\" href=\"https://colab.research.google.com/github/tensorflow/docs/blob/master/site/en/tutorials/load_data/numpy.ipynb\"><img src=\"https://www.tensorflow.org/images/colab_logo_32px.png\" />Run in Google Colab</a>\n",
        "  </td>\n",
        "  <td>\n",
        "    <a target=\"_blank\" href=\"https://github.com/tensorflow/docs/blob/master/site/en/tutorials/load_data/numpy.ipynb\"><img src=\"https://www.tensorflow.org/images/GitHub-Mark-32px.png\" />View source on GitHub</a>\n",
        "  </td>\n",
        "  <td>\n",
        "    <a href=\"https://storage.googleapis.com/tensorflow_docs/docs/site/en/tutorials/load_data/numpy.ipynb\"><img src=\"https://www.tensorflow.org/images/download_logo_32px.png\" />Download notebook</a>\n",
        "  </td>\n",
        "</table>"
      ]
    },
    {
      "cell_type": "markdown",
      "metadata": {
        "id": "-0tqX8qkXZEj"
      },
      "source": [
        "This tutorial provides an example of loading data from NumPy arrays into a `tf.data.Dataset`.\n",
        "\n",
        "This example loads the MNIST dataset from a `.npz` file. However, the source of the NumPy arrays is not important.\n"
      ]
    },
    {
      "cell_type": "markdown",
      "metadata": {
        "id": "-Ze5IBx9clLB"
      },
      "source": [
        "## Setup"
      ]
    },
    {
      "cell_type": "code",
      "execution_count": 1,
      "metadata": {
        "id": "k6J3JzK5NxQ6"
      },
      "outputs": [],
      "source": [
        " \n",
        "import numpy as np\n",
        "import tensorflow as tf"
      ]
    },
    {
      "cell_type": "markdown",
      "metadata": {
        "id": "G0yWiN8-cpDb"
      },
      "source": [
        "### Load from `.npz` file"
      ]
    },
    {
      "cell_type": "code",
      "execution_count": 2,
      "metadata": {
        "id": "GLHNrFM6RWoM",
        "outputId": "88492b2b-a068-4954-d5a6-0f5111045063",
        "colab": {
          "base_uri": "https://localhost:8080/"
        }
      },
      "outputs": [
        {
          "output_type": "stream",
          "name": "stdout",
          "text": [
            "Downloading data from https://storage.googleapis.com/tensorflow/tf-keras-datasets/mnist.npz\n",
            "11490434/11490434 [==============================] - 0s 0us/step\n"
          ]
        }
      ],
      "source": [
        "DATA_URL = 'https://storage.googleapis.com/tensorflow/tf-keras-datasets/mnist.npz'\n",
        "\n",
        "path = tf.keras.utils.get_file('mnist.npz', DATA_URL)\n",
        "with np.load(path) as data:\n",
        "  train_examples = data['x_train']\n",
        "  train_labels = data['y_train']\n",
        "  test_examples = data['x_test']\n",
        "  test_labels = data['y_test']"
      ]
    },
    {
      "cell_type": "markdown",
      "metadata": {
        "id": "cCeCkvrDgCMM"
      },
      "source": [
        "## Load NumPy arrays with `tf.data.Dataset`"
      ]
    },
    {
      "cell_type": "markdown",
      "metadata": {
        "id": "tslB0tJPgB-2"
      },
      "source": [
        "Assuming you have an array of examples and a corresponding array of labels, pass the two arrays as a tuple into `tf.data.Dataset.from_tensor_slices` to create a `tf.data.Dataset`."
      ]
    },
    {
      "cell_type": "code",
      "execution_count": 6,
      "metadata": {
        "id": "QN_8wwc5R7Qm"
      },
      "outputs": [],
      "source": [
        "train_dataset = tf.data.Dataset.from_tensor_slices((train_examples, train_labels))\n",
        "test_dataset = tf.data.Dataset.from_tensor_slices((test_examples, test_labels))"
      ]
    },
    {
      "cell_type": "markdown",
      "metadata": {
        "id": "6Rco85bbkDfN"
      },
      "source": [
        "## Use the datasets"
      ]
    },
    {
      "cell_type": "markdown",
      "metadata": {
        "id": "0dvl1uUukc4K"
      },
      "source": [
        "### Shuffle and batch the datasets"
      ]
    },
    {
      "cell_type": "code",
      "execution_count": 7,
      "metadata": {
        "id": "GTXdRMPcSXZj"
      },
      "outputs": [],
      "source": [
        "BATCH_SIZE = 64\n",
        "SHUFFLE_BUFFER_SIZE = 100\n",
        "\n",
        "train_dataset = train_dataset.shuffle(SHUFFLE_BUFFER_SIZE).batch(BATCH_SIZE)\n",
        "test_dataset = test_dataset.batch(BATCH_SIZE)"
      ]
    },
    {
      "cell_type": "markdown",
      "metadata": {
        "id": "w69Jl8k6lilg"
      },
      "source": [
        "### Build and train a model"
      ]
    },
    {
      "cell_type": "code",
      "execution_count": 8,
      "metadata": {
        "id": "Uhxr8py4DkDN"
      },
      "outputs": [],
      "source": [
        "model = tf.keras.Sequential([\n",
        "    tf.keras.layers.Flatten(input_shape=(28, 28)),\n",
        "    tf.keras.layers.Dense(128, activation='relu'),\n",
        "    tf.keras.layers.Dense(10)\n",
        "])\n",
        "\n",
        "model.compile(optimizer=tf.keras.optimizers.RMSprop(),\n",
        "              loss=tf.keras.losses.SparseCategoricalCrossentropy(from_logits=True),\n",
        "              metrics=['sparse_categorical_accuracy'])"
      ]
    },
    {
      "cell_type": "code",
      "execution_count": 9,
      "metadata": {
        "id": "XLDzlPGgOHBx",
        "outputId": "489f12c4-464c-4c34-97d2-e32e3d7a0fdb",
        "colab": {
          "base_uri": "https://localhost:8080/"
        }
      },
      "outputs": [
        {
          "output_type": "stream",
          "name": "stdout",
          "text": [
            "Epoch 1/10\n",
            "938/938 [==============================] - 12s 11ms/step - loss: 3.5184 - sparse_categorical_accuracy: 0.8753\n",
            "Epoch 2/10\n",
            "938/938 [==============================] - 8s 9ms/step - loss: 0.5257 - sparse_categorical_accuracy: 0.9258\n",
            "Epoch 3/10\n",
            "938/938 [==============================] - 9s 9ms/step - loss: 0.4009 - sparse_categorical_accuracy: 0.9443\n",
            "Epoch 4/10\n",
            "938/938 [==============================] - 8s 9ms/step - loss: 0.3307 - sparse_categorical_accuracy: 0.9560\n",
            "Epoch 5/10\n",
            "938/938 [==============================] - 7s 7ms/step - loss: 0.3103 - sparse_categorical_accuracy: 0.9599\n",
            "Epoch 6/10\n",
            "938/938 [==============================] - 7s 7ms/step - loss: 0.2602 - sparse_categorical_accuracy: 0.9650\n",
            "Epoch 7/10\n",
            "938/938 [==============================] - 9s 9ms/step - loss: 0.2441 - sparse_categorical_accuracy: 0.9681\n",
            "Epoch 8/10\n",
            "938/938 [==============================] - 8s 7ms/step - loss: 0.2114 - sparse_categorical_accuracy: 0.9719\n",
            "Epoch 9/10\n",
            "938/938 [==============================] - 10s 11ms/step - loss: 0.2147 - sparse_categorical_accuracy: 0.9730\n",
            "Epoch 10/10\n",
            "938/938 [==============================] - 7s 7ms/step - loss: 0.2083 - sparse_categorical_accuracy: 0.9752\n"
          ]
        },
        {
          "output_type": "execute_result",
          "data": {
            "text/plain": [
              "<keras.callbacks.History at 0x7f48f31a5d90>"
            ]
          },
          "metadata": {},
          "execution_count": 9
        }
      ],
      "source": [
        "model.fit(train_dataset, epochs=10)"
      ]
    },
    {
      "cell_type": "code",
      "execution_count": 10,
      "metadata": {
        "id": "2q82yN8mmKIE",
        "outputId": "005ddc9b-50e7-4d24-8935-b2c51c3398d5",
        "colab": {
          "base_uri": "https://localhost:8080/"
        }
      },
      "outputs": [
        {
          "output_type": "stream",
          "name": "stdout",
          "text": [
            "157/157 [==============================] - 1s 2ms/step - loss: 0.7066 - sparse_categorical_accuracy: 0.9533\n"
          ]
        },
        {
          "output_type": "execute_result",
          "data": {
            "text/plain": [
              "[0.7066277861595154, 0.9532999992370605]"
            ]
          },
          "metadata": {},
          "execution_count": 10
        }
      ],
      "source": [
        "model.evaluate(test_dataset)"
      ]
    }
  ],
  "metadata": {
    "colab": {
      "name": "numpy.ipynb",
      "provenance": [],
      "include_colab_link": true
    },
    "kernelspec": {
      "display_name": "Python 3",
      "name": "python3"
    }
  },
  "nbformat": 4,
  "nbformat_minor": 0
}