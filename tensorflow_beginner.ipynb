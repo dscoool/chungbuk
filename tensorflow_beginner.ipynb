{
  "nbformat": 4,
  "nbformat_minor": 0,
  "metadata": {
    "colab": {
      "provenance": [],
      "authorship_tag": "ABX9TyMitEhq/wFHw+aRdo59FrIo",
      "include_colab_link": true
    },
    "kernelspec": {
      "name": "python3",
      "display_name": "Python 3"
    },
    "language_info": {
      "name": "python"
    }
  },
  "cells": [
    {
      "cell_type": "markdown",
      "metadata": {
        "id": "view-in-github",
        "colab_type": "text"
      },
      "source": [
        "<a href=\"https://colab.research.google.com/github/dscoool/chungbuk/blob/main/tensorflow_beginner.ipynb\" target=\"_parent\"><img src=\"https://colab.research.google.com/assets/colab-badge.svg\" alt=\"Open In Colab\"/></a>"
      ]
    },
    {
      "cell_type": "markdown",
      "source": [
        "# 파이썬 텐서플로우 시작하기!!\n",
        "\n",
        "간단한 예제(tensorflow)를 아무 생각 없이 따라 돌려 봅시다. 😊\n",
        "\n",
        "본인의 PC에서 주피터 노트북(JUPYTER NOTEBOOK tensorflow_beginner.ipynb파일)을 실행하실 분은 우측 상단의 'Download'버튼을 눌러 파일을 다운로드받으세요!!\n",
        "\n",
        "PyCharm, Visual Studio Code, Anaconda 무엇이든 사용하셔도 좋습니다.\n",
        "\n",
        "그럼 실습을 시작해 볼까요? 😊\n",
        "\n",
        "tensorflow라는 모듈을 사용할게요!!\n"
      ],
      "metadata": {
        "id": "9p1uA0Msg4qu"
      }
    },
    {
      "cell_type": "markdown",
      "source": [
        "아래는 예제 설명이 되어 있는 블로그입니다.\n",
        "\n",
        "* 예제 설명: https://guide.ncloud-docs.com/beta/docs/tensorflow-for-beginner\n"
      ],
      "metadata": {
        "id": "2HcTNOxzgzsX"
      }
    },
    {
      "cell_type": "markdown",
      "source": [
        "먼저 import 명령어를 사용하여, 프로그램에 텐서플로 라이브러리를 임포트합니다\n"
      ],
      "metadata": {
        "id": "KC7XyXw3gxSo"
      }
    },
    {
      "cell_type": "code",
      "execution_count": 1,
      "metadata": {
        "id": "SM5M0cYmaaci"
      },
      "outputs": [],
      "source": [
        "import tensorflow as tf\n"
      ]
    },
    {
      "cell_type": "markdown",
      "source": [
        "[MNIST 데이터셋](https://brunch.co.kr/@minwoo/25) 을 로드하여 준비합니다. 샘플 값을 정수에서 실수(float, 부동소수)로 변환합니다:"
      ],
      "metadata": {
        "id": "3SeTmkKQhG2Q"
      }
    },
    {
      "cell_type": "code",
      "source": [
        "#mnist 데이터를 자동으로 다운로드합니다.\n",
        "mnist = tf.keras.datasets.mnist\n",
        "\n",
        "# {x} 변수(variables) 버튼을 눌러서, mnist 변수 내용을 살펴봅시다!!\n",
        "# 아니면 콘솔에 mnist 를 실행시켜 변수 내용을 살펴봅시다!!\n",
        "\n",
        "# train data와 test data를 분할합니다!!\n",
        "\n",
        "\n",
        "(x_train, y_train), (x_test, y_test) = mnist.load_data()\n",
        "x_train, x_test = x_train / 255.0, x_test / 255.0"
      ],
      "metadata": {
        "colab": {
          "base_uri": "https://localhost:8080/"
        },
        "id": "ia2w3mdMagB0",
        "outputId": "3744d925-b704-4d68-ac1e-ad21d837f012"
      },
      "execution_count": 2,
      "outputs": [
        {
          "output_type": "stream",
          "name": "stdout",
          "text": [
            "Downloading data from https://storage.googleapis.com/tensorflow/tf-keras-datasets/mnist.npz\n",
            "11490434/11490434 [==============================] - 0s 0us/step\n"
          ]
        }
      ]
    },
    {
      "cell_type": "code",
      "source": [
        "# 데이터가 궁금하면 한 개씩 주석을 풀고 실행해 봅시다!!\n",
        "# 어떤 데이터가 로드되었을까요?\n",
        "# mnist.load_data()\n",
        "# x_train\n",
        "# x_test\n",
        "# y_train\n",
        "y_test"
      ],
      "metadata": {
        "colab": {
          "base_uri": "https://localhost:8080/"
        },
        "id": "l5WcjWfBa22F",
        "outputId": "1dc49809-6e98-4240-fec8-3e6974a54b24"
      },
      "execution_count": 3,
      "outputs": [
        {
          "output_type": "execute_result",
          "data": {
            "text/plain": [
              "array([7, 2, 1, ..., 4, 5, 6], dtype=uint8)"
            ]
          },
          "metadata": {},
          "execution_count": 3
        }
      ]
    },
    {
      "cell_type": "markdown",
      "source": [
        "기계학습의 'layer' (층) 개념을 배운 적이 있나요?\n",
        "\n",
        "층을 차례대로 쌓아 tf.keras.Sequential 모델을 만듭니다. 훈련에 사용할 옵티마이저(optimizer)와 손실 함수를 선택합니다:"
      ],
      "metadata": {
        "id": "M8DZTsr0hQDn"
      }
    },
    {
      "cell_type": "code",
      "source": [
        "model = tf.keras.models.Sequential([\n",
        "  tf.keras.layers.Flatten(input_shape=(28, 28)),\n",
        "  tf.keras.layers.Dense(128, activation='relu'),\n",
        "  tf.keras.layers.Dropout(0.2),\n",
        "  tf.keras.layers.Dense(10, activation='softmax')\n",
        "])\n",
        "\n",
        "model.compile(optimizer='adam',\n",
        "              loss='sparse_categorical_crossentropy',\n",
        "              metrics=['accuracy'])"
      ],
      "metadata": {
        "id": "TZiSIRv5amr7"
      },
      "execution_count": 4,
      "outputs": []
    },
    {
      "cell_type": "markdown",
      "source": [
        "모델을 훈련하고 평가합니다:"
      ],
      "metadata": {
        "id": "DRFO5rYqhRPw"
      }
    },
    {
      "cell_type": "code",
      "source": [
        "model.fit(x_train, y_train, epochs=5)\n",
        "\n",
        "model.evaluate(x_test,  y_test, verbose=2)\n",
        "\n",
        "\n",
        "''' 예상 결과\n",
        "Train on 60000 samples\n",
        "Epoch 1/5\n",
        "WARNING:tensorflow:Entity <function Function._initialize_uninitialized_variables.<locals>.initialize_variables at 0x7f2d11707048> could not be transformed and will be executed as-is. Please report this to the AutoGraph team. When filing the bug, set the verbosity to 10 (on Linux, `export AUTOGRAPH_VERBOSITY=10`) and attach the full output. Cause: module 'gast' has no attribute 'Num'\n",
        "WARNING: Entity <function Function._initialize_uninitialized_variables.<locals>.initialize_variables at 0x7f2d11707048> could not be transformed and will be executed as-is. Please report this to the AutoGraph team. When filing the bug, set the verbosity to 10 (on Linux, `export AUTOGRAPH_VERBOSITY=10`) and attach the full output. Cause: module 'gast' has no attribute 'Num'\n",
        "60000/60000 [==============================] - 4s 68us/sample - loss: 0.2941 - accuracy: 0.9140\n",
        "Epoch 2/5\n",
        "60000/60000 [==============================] - 4s 62us/sample - loss: 0.1396 - accuracy: 0.9587\n",
        "Epoch 3/5\n",
        "60000/60000 [==============================] - 4s 62us/sample - loss: 0.1046 - accuracy: 0.9680\n",
        "Epoch 4/5\n",
        "60000/60000 [==============================] - 4s 62us/sample - loss: 0.0859 - accuracy: 0.9742\n",
        "Epoch 5/5\n",
        "60000/60000 [==============================] - 4s 62us/sample - loss: 0.0724 - accuracy: 0.9771\n",
        "10000/1 - 0s - loss: 0.0345 - accuracy: 0.9788\n",
        "[0.06729823819857557, 0.9788]\n",
        "'''"
      ],
      "metadata": {
        "colab": {
          "base_uri": "https://localhost:8080/",
          "height": 468
        },
        "id": "hPsQr9VMbOMZ",
        "outputId": "a0baa004-6030-4b82-dbe0-f16a2f9c2cbd"
      },
      "execution_count": 5,
      "outputs": [
        {
          "output_type": "stream",
          "name": "stdout",
          "text": [
            "Epoch 1/5\n",
            "1875/1875 [==============================] - 8s 4ms/step - loss: 0.2952 - accuracy: 0.9145\n",
            "Epoch 2/5\n",
            "1875/1875 [==============================] - 6s 3ms/step - loss: 0.1411 - accuracy: 0.9586\n",
            "Epoch 3/5\n",
            "1875/1875 [==============================] - 5s 3ms/step - loss: 0.1058 - accuracy: 0.9678\n",
            "Epoch 4/5\n",
            "1875/1875 [==============================] - 5s 3ms/step - loss: 0.0868 - accuracy: 0.9738\n",
            "Epoch 5/5\n",
            "1875/1875 [==============================] - 6s 3ms/step - loss: 0.0749 - accuracy: 0.9770\n",
            "313/313 - 0s - loss: 0.0728 - accuracy: 0.9779 - 396ms/epoch - 1ms/step\n"
          ]
        },
        {
          "output_type": "execute_result",
          "data": {
            "text/plain": [
              "\" 예상 결과\\nTrain on 60000 samples\\nEpoch 1/5\\nWARNING:tensorflow:Entity <function Function._initialize_uninitialized_variables.<locals>.initialize_variables at 0x7f2d11707048> could not be transformed and will be executed as-is. Please report this to the AutoGraph team. When filing the bug, set the verbosity to 10 (on Linux, `export AUTOGRAPH_VERBOSITY=10`) and attach the full output. Cause: module 'gast' has no attribute 'Num'\\nWARNING: Entity <function Function._initialize_uninitialized_variables.<locals>.initialize_variables at 0x7f2d11707048> could not be transformed and will be executed as-is. Please report this to the AutoGraph team. When filing the bug, set the verbosity to 10 (on Linux, `export AUTOGRAPH_VERBOSITY=10`) and attach the full output. Cause: module 'gast' has no attribute 'Num'\\n60000/60000 [==============================] - 4s 68us/sample - loss: 0.2941 - accuracy: 0.9140\\nEpoch 2/5\\n60000/60000 [==============================] - 4s 62us/sample - loss: 0.1396 - accuracy: 0.9587\\nEpoch 3/5\\n60000/60000 [==============================] - 4s 62us/sample - loss: 0.1046 - accuracy: 0.9680\\nEpoch 4/5\\n60000/60000 [==============================] - 4s 62us/sample - loss: 0.0859 - accuracy: 0.9742\\nEpoch 5/5\\n60000/60000 [==============================] - 4s 62us/sample - loss: 0.0724 - accuracy: 0.9771\\n10000/1 - 0s - loss: 0.0345 - accuracy: 0.9788\\n[0.06729823819857557, 0.9788]\\n\""
            ],
            "application/vnd.google.colaboratory.intrinsic+json": {
              "type": "string"
            }
          },
          "metadata": {},
          "execution_count": 5
        }
      ]
    },
    {
      "cell_type": "markdown",
      "source": [
        "훈련된 이미지 분류기는 이 데이터셋에서 약 98%의 정확도를 달성합니다. 더 자세한 내용은 TensorFlow 튜토리얼 을 참고해 주십시오."
      ],
      "metadata": {
        "id": "KenBzarGhT3J"
      }
    },
    {
      "cell_type": "markdown",
      "source": [
        "* Reference: 텐서플로우 튜토리얼- https://www.tensorflow.org/tutorials\n",
        "\n"
      ],
      "metadata": {
        "id": "8oCZh8TKhv-l"
      }
    }
  ]
}