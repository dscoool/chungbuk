{
  "nbformat": 4,
  "nbformat_minor": 0,
  "metadata": {
    "colab": {
      "provenance": [],
      "authorship_tag": "ABX9TyO2KeBFYLGjb5qutdihNm4E",
      "include_colab_link": true
    },
    "kernelspec": {
      "name": "python3",
      "display_name": "Python 3"
    },
    "language_info": {
      "name": "python"
    }
  },
  "cells": [
    {
      "cell_type": "markdown",
      "metadata": {
        "id": "view-in-github",
        "colab_type": "text"
      },
      "source": [
        "<a href=\"https://colab.research.google.com/github/dscoool/chungbuk/blob/main/tensorflow_beginner.ipynb\" target=\"_parent\"><img src=\"https://colab.research.google.com/assets/colab-badge.svg\" alt=\"Open In Colab\"/></a>"
      ]
    },
    {
      "cell_type": "markdown",
      "source": [
        "# 파이썬 텐서플로우 시작하기!!\n",
        "\n",
        "간단한 예제(tensorflow)를 아무 생각 없이 따라 돌려 봅시다.\n",
        "\n",
        "tensorflow라는 모듈을 사용할게요!!\n"
      ],
      "metadata": {
        "id": "9p1uA0Msg4qu"
      }
    },
    {
      "cell_type": "markdown",
      "source": [
        "* 예제 설명: https://guide.ncloud-docs.com/beta/docs/tensorflow-for-beginner\n"
      ],
      "metadata": {
        "id": "2HcTNOxzgzsX"
      }
    },
    {
      "cell_type": "markdown",
      "source": [
        "먼저 프로그램에 텐서플로 라이브러리를 임포트합니다\n"
      ],
      "metadata": {
        "id": "KC7XyXw3gxSo"
      }
    },
    {
      "cell_type": "code",
      "execution_count": null,
      "metadata": {
        "id": "SM5M0cYmaaci"
      },
      "outputs": [],
      "source": [
        "import tensorflow as tf\n"
      ]
    },
    {
      "cell_type": "markdown",
      "source": [
        "[MNIST 데이터셋](https://brunch.co.kr/@minwoo/25) 을 로드하여 준비합니다. 샘플 값을 정수에서 실수(float, 부동소수)로 변환합니다:"
      ],
      "metadata": {
        "id": "3SeTmkKQhG2Q"
      }
    },
    {
      "cell_type": "code",
      "source": [
        "mnist = tf.keras.datasets.mnist\n",
        "\n",
        "(x_train, y_train), (x_test, y_test) = mnist.load_data()\n",
        "x_train, x_test = x_train / 255.0, x_test / 255.0"
      ],
      "metadata": {
        "colab": {
          "base_uri": "https://localhost:8080/"
        },
        "id": "ia2w3mdMagB0",
        "outputId": "cdf0b3f0-93fb-43fd-8d93-c51667d317b6"
      },
      "execution_count": null,
      "outputs": [
        {
          "output_type": "stream",
          "name": "stdout",
          "text": [
            "Downloading data from https://storage.googleapis.com/tensorflow/tf-keras-datasets/mnist.npz\n",
            "11490434/11490434 [==============================] - 0s 0us/step\n"
          ]
        }
      ]
    },
    {
      "cell_type": "code",
      "source": [
        "# 데이터가 궁금하면 한 개씩 주석을 풀고 실행해 봅시다!!\n",
        "# 어떤 데이터가 로드되었을까요?\n",
        "# mnist.load_data()\n",
        "# x_train\n",
        "# x_test\n",
        "# y_train\n",
        "y_test"
      ],
      "metadata": {
        "colab": {
          "base_uri": "https://localhost:8080/"
        },
        "id": "l5WcjWfBa22F",
        "outputId": "74251fd8-0bd4-4034-f875-f26783bd141e"
      },
      "execution_count": null,
      "outputs": [
        {
          "output_type": "execute_result",
          "data": {
            "text/plain": [
              "array([7, 2, 1, ..., 4, 5, 6], dtype=uint8)"
            ]
          },
          "metadata": {},
          "execution_count": 11
        }
      ]
    },
    {
      "cell_type": "markdown",
      "source": [
        "층을 차례대로 쌓아 tf.keras.Sequential 모델을 만듭니다. 훈련에 사용할 옵티마이저(optimizer)와 손실 함수를 선택합니다:"
      ],
      "metadata": {
        "id": "M8DZTsr0hQDn"
      }
    },
    {
      "cell_type": "code",
      "source": [
        "model = tf.keras.models.Sequential([\n",
        "  tf.keras.layers.Flatten(input_shape=(28, 28)),\n",
        "  tf.keras.layers.Dense(128, activation='relu'),\n",
        "  tf.keras.layers.Dropout(0.2),\n",
        "  tf.keras.layers.Dense(10, activation='softmax')\n",
        "])\n",
        "\n",
        "model.compile(optimizer='adam',\n",
        "              loss='sparse_categorical_crossentropy',\n",
        "              metrics=['accuracy'])"
      ],
      "metadata": {
        "id": "TZiSIRv5amr7"
      },
      "execution_count": null,
      "outputs": []
    },
    {
      "cell_type": "markdown",
      "source": [
        "모델을 훈련하고 평가합니다:"
      ],
      "metadata": {
        "id": "DRFO5rYqhRPw"
      }
    },
    {
      "cell_type": "code",
      "source": [
        "model.fit(x_train, y_train, epochs=5)\n",
        "\n",
        "model.evaluate(x_test,  y_test, verbose=2)\n",
        "\n",
        "\n",
        "''' 예상 결과\n",
        "Train on 60000 samples\n",
        "Epoch 1/5\n",
        "WARNING:tensorflow:Entity <function Function._initialize_uninitialized_variables.<locals>.initialize_variables at 0x7f2d11707048> could not be transformed and will be executed as-is. Please report this to the AutoGraph team. When filing the bug, set the verbosity to 10 (on Linux, `export AUTOGRAPH_VERBOSITY=10`) and attach the full output. Cause: module 'gast' has no attribute 'Num'\n",
        "WARNING: Entity <function Function._initialize_uninitialized_variables.<locals>.initialize_variables at 0x7f2d11707048> could not be transformed and will be executed as-is. Please report this to the AutoGraph team. When filing the bug, set the verbosity to 10 (on Linux, `export AUTOGRAPH_VERBOSITY=10`) and attach the full output. Cause: module 'gast' has no attribute 'Num'\n",
        "60000/60000 [==============================] - 4s 68us/sample - loss: 0.2941 - accuracy: 0.9140\n",
        "Epoch 2/5\n",
        "60000/60000 [==============================] - 4s 62us/sample - loss: 0.1396 - accuracy: 0.9587\n",
        "Epoch 3/5\n",
        "60000/60000 [==============================] - 4s 62us/sample - loss: 0.1046 - accuracy: 0.9680\n",
        "Epoch 4/5\n",
        "60000/60000 [==============================] - 4s 62us/sample - loss: 0.0859 - accuracy: 0.9742\n",
        "Epoch 5/5\n",
        "60000/60000 [==============================] - 4s 62us/sample - loss: 0.0724 - accuracy: 0.9771\n",
        "10000/1 - 0s - loss: 0.0345 - accuracy: 0.9788\n",
        "[0.06729823819857557, 0.9788]\n",
        "'''"
      ],
      "metadata": {
        "colab": {
          "base_uri": "https://localhost:8080/"
        },
        "id": "hPsQr9VMbOMZ",
        "outputId": "a3ac14ea-61ac-42db-d1ce-aff011cf3ae8"
      },
      "execution_count": null,
      "outputs": [
        {
          "output_type": "stream",
          "name": "stdout",
          "text": [
            "Epoch 1/5\n",
            "1875/1875 [==============================] - 15s 8ms/step - loss: 0.2879 - accuracy: 0.9163\n",
            "Epoch 2/5\n",
            "1875/1875 [==============================] - 18s 9ms/step - loss: 0.1413 - accuracy: 0.9579\n",
            "Epoch 3/5\n",
            "1875/1875 [==============================] - 15s 8ms/step - loss: 0.1053 - accuracy: 0.9687\n",
            "Epoch 4/5\n",
            "1875/1875 [==============================] - 17s 9ms/step - loss: 0.0858 - accuracy: 0.9734\n",
            "Epoch 5/5\n",
            "1875/1875 [==============================] - 18s 9ms/step - loss: 0.0745 - accuracy: 0.9762\n",
            "313/313 - 1s - loss: 0.0730 - accuracy: 0.9780 - 661ms/epoch - 2ms/step\n"
          ]
        },
        {
          "output_type": "execute_result",
          "data": {
            "text/plain": [
              "[0.07300049066543579, 0.9779999852180481]"
            ]
          },
          "metadata": {},
          "execution_count": 13
        }
      ]
    },
    {
      "cell_type": "markdown",
      "source": [
        "훈련된 이미지 분류기는 이 데이터셋에서 약 98%의 정확도를 달성합니다. 더 자세한 내용은 TensorFlow 튜토리얼 을 참고해 주십시오."
      ],
      "metadata": {
        "id": "KenBzarGhT3J"
      }
    },
    {
      "cell_type": "markdown",
      "source": [
        "* 텐서플로우 튜토리얼- https://www.tensorflow.org/tutorials\n",
        "\n",
        "```\n",
        "# 코드로 형식 지정됨\n",
        "```\n",
        "\n"
      ],
      "metadata": {
        "id": "8oCZh8TKhv-l"
      }
    }
  ]
}