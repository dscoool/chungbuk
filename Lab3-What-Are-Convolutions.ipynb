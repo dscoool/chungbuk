{
  "nbformat": 4,
  "nbformat_minor": 0,
  "metadata": {
    "colab": {
      "name": "Lab3-What-Are-Convolutions.ipynb",
      "provenance": [],
      "include_colab_link": true
    },
    "kernelspec": {
      "name": "python3",
      "display_name": "Python 3"
    }
  },
  "cells": [
    {
      "cell_type": "markdown",
      "metadata": {
        "id": "view-in-github",
        "colab_type": "text"
      },
      "source": [
        "<a href=\"https://colab.research.google.com/github/dscoool/chungbuk/blob/main/Lab3-What-Are-Convolutions.ipynb\" target=\"_parent\"><img src=\"https://colab.research.google.com/assets/colab-badge.svg\" alt=\"Open In Colab\"/></a>"
      ]
    },
    {
      "metadata": {
        "id": "GhZOHbwJOvio"
      },
      "cell_type": "markdown",
      "source": [
        "##What are Convolutions?\n",
        "\n",
        "In the next lab you will explore how to enhance your Computer Vision example using Convolutions. But what are convolutions? In this lab you'll explore what they are and how they work, and then in Lab 4 you'll see how to use them in your neural network."
      ]
    },
    {
      "metadata": {
        "id": "nidI4HtcVQ7i"
      },
      "cell_type": "markdown",
      "source": [
        "Together with convolutions, you'll use something called 'Pooling', which compresses your image, further emphasising the features. You'll also see how pooling works in this lab. "
      ]
    },
    {
      "metadata": {
        "id": "DdBFQswdO-kX"
      },
      "cell_type": "markdown",
      "source": [
        "##Limitations of the previous DNN\n",
        "In the last lab you saw how to train an image classifier for fashion items using the Fashion MNIST dataset. This gave you a pretty accuract classifier, but there was an obvious constraint: the images were 28x28, grey scale and the item was centered in the image. \n",
        "\n",
        "For example here are a couple of the images in Fashion MNIST\n",
        "![Picture of a sweater and a boot](https://cdn-images-1.medium.com/max/1600/1*FekMt6abfFFAFzhQcnjxZg.png)\n",
        "\n",
        "The DNN that you created simply learned from the raw pixels what made up a sweater, and what made up a boot in this context. But consider how it might classify this image?\n",
        "\n",
        "![image of boots](https://cdn.pixabay.com/photo/2013/09/12/19/57/boots-181744_1280.jpg)\n",
        "\n",
        "While it's clear that there are boots in this image, the classifier would fail for a number of reasons. First, of course, it's not 28x28 greyscale, but more importantly, the classifier was trained on the raw pixels of a left-facing boot, and not the features that make up what a boot is.\n",
        "\n",
        "That's where Convolutions are very powerful. A convolution is a filter that passes over an image, processing it, and extracting features that show a commonolatity in the image. In this lab you'll see how they work, but processing an image to see if you can extract features from it!\n",
        "\n",
        "\n"
      ]
    },
    {
      "metadata": {
        "id": "ds0NF5KFVmG2"
      },
      "cell_type": "markdown",
      "source": [
        "Generating convolutions is very simple -- you simply scan every pixel in the image and then look at it's neighboring pixels. You multiply out the values of these pixels by the equivalent weights in a filter. \n",
        "\n",
        "So, for example, consider this:\n",
        "\n",
        "![Convolution on image](https://storage.googleapis.com/laurencemoroney-blog.appspot.com/MLColabImages/lab3-fig1.png)\n",
        "\n",
        "In this case a 3x3 Convolution is specified.\n",
        "\n",
        "The current pixel value is 192, but you can calculate the new one by looking at the neighbor values, and multiplying them out by the values specified in the filter, and making the new pixel value the final amount.\n",
        "\n"
      ]
    },
    {
      "metadata": {
        "id": "tJTHvE8Qe5nM"
      },
      "cell_type": "markdown",
      "source": [
        "Let's explore how convolutions work by creating a basic convolution on a 2D Grey Scale image. First we can load the image by taking the 'ascent' image from scipy. It's a nice, built-in picture with lots of angles and lines. "
      ]
    },
    {
      "metadata": {
        "id": "KTS2sc5nQSCJ"
      },
      "cell_type": "markdown",
      "source": [
        "Let's start by importing some python libraries."
      ]
    },
    {
      "metadata": {
        "id": "DZ5OXYiolCUi"
      },
      "cell_type": "code",
      "source": [
        "import cv2\n",
        "import numpy as np\n",
        "from scipy import misc\n",
        "i = misc.ascent()\n"
      ],
      "execution_count": null,
      "outputs": []
    },
    {
      "metadata": {
        "id": "SRIzxjWWfJjk"
      },
      "cell_type": "markdown",
      "source": [
        "Next, we can use the pyplot library to draw the image so we know what it looks like."
      ]
    },
    {
      "metadata": {
        "id": "R4p0cfWcfIvi"
      },
      "cell_type": "code",
      "source": [
        "import matplotlib.pyplot as plt\n",
        "plt.grid(False)\n",
        "plt.gray()\n",
        "plt.axis('off')\n",
        "plt.imshow(i)\n",
        "plt.show()"
      ],
      "execution_count": null,
      "outputs": []
    },
    {
      "metadata": {
        "id": "C1mhZ_ZTfPWH"
      },
      "cell_type": "markdown",
      "source": [
        "We can see that this is an image of a stairwell. There are lots of features in here that we can play with seeing if we can isolate them -- for example there are strong vertical lines.\n",
        "\n",
        "The image is stored as a numpy array, so we can create the transformed image by just copying that array. Let's also get the dimensions of the image so we can loop over it later. "
      ]
    },
    {
      "metadata": {
        "id": "o5pxGq1SmJMD"
      },
      "cell_type": "code",
      "source": [
        "i_transformed = np.copy(i)\n",
        "size_x = i_transformed.shape[0]\n",
        "size_y = i_transformed.shape[1]"
      ],
      "execution_count": null,
      "outputs": []
    },
    {
      "metadata": {
        "id": "Y7PwNkiXfddd"
      },
      "cell_type": "markdown",
      "source": [
        "Now we can create a filter as a 3x3 array. "
      ]
    },
    {
      "metadata": {
        "id": "sN3imZannN5J"
      },
      "cell_type": "code",
      "source": [
        "# This filter detects edges nicely\n",
        "# It creates a convolution that only passes through sharp edges and straight\n",
        "# lines.\n",
        "\n",
        "#Experiment with different values for fun effects.\n",
        "#filter = [ [0, 1, 0], [1, -4, 1], [0, 1, 0]]\n",
        "\n",
        "# A couple more filters to try for fun!\n",
        "filter = [ [-1, -2, -1], [0, 0, 0], [1, 2, 1]]\n",
        "#filter = [ [-1, 0, 1], [-2, 0, 2], [-1, 0, 1]]\n",
        "\n",
        "# If all the digits in the filter don't add up to 0 or 1, you \n",
        "# should probably do a weight to get it to do so\n",
        "# so, for example, if your weights are 1,1,1 1,2,1 1,1,1\n",
        "# They add up to 10, so you would set a weight of .1 if you want to normalize them\n",
        "weight  = 1"
      ],
      "execution_count": null,
      "outputs": []
    },
    {
      "metadata": {
        "id": "JQmm_iBufmCz"
      },
      "cell_type": "markdown",
      "source": [
        "Now let's create a convolution. We will iterate over the image, leaving a 1 pixel margin, and multiply out each of the neighbors of the current pixel by the value defined in the filter. \n",
        "\n",
        "i.e. the current pixel's neighbor above it and to the left will be multiplied by the top left item in the filter etc. etc. We'll then multiply the result by the weight, and then ensure the result is in the range 0-255\n",
        "\n",
        "Finally we'll load the new value into the transformed image. "
      ]
    },
    {
      "metadata": {
        "id": "299uU2jAr90h"
      },
      "cell_type": "code",
      "source": [
        "for x in range(1,size_x-1):\n",
        "  for y in range(1,size_y-1):\n",
        "      convolution = 0.0\n",
        "      convolution = convolution + (i[x - 1, y-1] * filter[0][0])\n",
        "      convolution = convolution + (i[x, y-1] * filter[0][1])\n",
        "      convolution = convolution + (i[x + 1, y-1] * filter[0][2])\n",
        "      convolution = convolution + (i[x-1, y] * filter[1][0])\n",
        "      convolution = convolution + (i[x, y] * filter[1][1])\n",
        "      convolution = convolution + (i[x+1, y] * filter[1][2])\n",
        "      convolution = convolution + (i[x-1, y+1] * filter[2][0])\n",
        "      convolution = convolution + (i[x, y+1] * filter[2][1])\n",
        "      convolution = convolution + (i[x+1, y+1] * filter[2][2])\n",
        "      convolution = convolution * weight\n",
        "      if(convolution<0):\n",
        "        convolution=0\n",
        "      if(convolution>255):\n",
        "        convolution=255\n",
        "      i_transformed[x, y] = convolution"
      ],
      "execution_count": null,
      "outputs": []
    },
    {
      "metadata": {
        "id": "6XA--vgvgDEQ"
      },
      "cell_type": "markdown",
      "source": [
        "Now we can plot the image to see the effect of the convolution!"
      ]
    },
    {
      "metadata": {
        "id": "7oPhUPNhuGWC"
      },
      "cell_type": "code",
      "source": [
        "# Plot the image. Note the size of the axes -- they are 512 by 512\n",
        "plt.gray()\n",
        "plt.grid(False)\n",
        "plt.imshow(i_transformed)\n",
        "#plt.axis('off')\n",
        "plt.show()   "
      ],
      "execution_count": null,
      "outputs": []
    },
    {
      "metadata": {
        "id": "Df7kw1m6XDwz"
      },
      "cell_type": "markdown",
      "source": [
        "So, consider the following filter values, and their impact on the image.\n",
        "\n",
        "Using -1,0,1,-2,0,2,-1,0,1 gives us a very strong set of vertical lines:\n",
        "\n",
        "![Detecting vertical lines filter](https://storage.googleapis.com/laurencemoroney-blog.appspot.com/MLColabImages/lab3-fig2.png)\n",
        "\n",
        "Using -1, -2, -1, 0, 0, 0, 1, 2, 1 gives us horizontal lines:\n",
        "\n",
        "![Detecting horizontal lines](https://storage.googleapis.com/laurencemoroney-blog.appspot.com/MLColabImages/lab3-fig3.png)\n",
        "\n",
        "Explore different values for yourself! "
      ]
    },
    {
      "metadata": {
        "id": "xF0FPplsgHNh"
      },
      "cell_type": "markdown",
      "source": [
        "## Pooling\n",
        "\n",
        "As well as using convolutions, pooling helps us greatly in detecting features. The goal is to reduce the overall amount of information in an image, while maintaining the features that are detected as present. \n",
        "\n",
        "There are a number of different types of pooling, but for this lab we'll use one called MAX pooling. \n",
        "\n",
        " The idea here is to iterate over the image, and look at the pixel and it's immediate neighbors to the right, beneath, and right-beneath. Take the largest (hence the name MAX pooling) of them and load it into the new image. Thus the new image will be 1/4 the size of the old -- with the dimensions on X and Y being halved by this process. You'll see that the features get maintained despite this compression!\n",
        "\n",
        "![Max Pooling](https://storage.googleapis.com/laurencemoroney-blog.appspot.com/MLColabImages/lab3-fig4.png)\n",
        "\n",
        "This code will show a (2, 2) pooling.Run it to see the output, and you'll see that while the image is 1/4 the size of the original, the extracted features are maintained!\n",
        "\n"
      ]
    },
    {
      "metadata": {
        "id": "kDHjf-ehaBqm"
      },
      "cell_type": "code",
      "source": [
        "new_x = int(size_x/2)\n",
        "new_y = int(size_y/2)\n",
        "newImage = np.zeros((new_x, new_y))\n",
        "for x in range(0, size_x, 2):\n",
        "  for y in range(0, size_y, 2):\n",
        "    pixels = []\n",
        "    pixels.append(i_transformed[x, y])\n",
        "    pixels.append(i_transformed[x+1, y])\n",
        "    pixels.append(i_transformed[x, y+1])\n",
        "    pixels.append(i_transformed[x+1, y+1])\n",
        "    pixels.sort(reverse=True)\n",
        "    newImage[int(x/2),int(y/2)] = pixels[0]\n",
        "\n",
        "# Plot the image. Note the size of the axes -- now 256 pixels instead of 512\n",
        "plt.gray()\n",
        "plt.grid(False)\n",
        "plt.imshow(newImage)\n",
        "#plt.axis('off')\n",
        "plt.show()      \n",
        "    \n",
        "    "
      ],
      "execution_count": null,
      "outputs": []
    },
    {
      "metadata": {
        "id": "jZWdU6dVYQm-"
      },
      "cell_type": "markdown",
      "source": [
        "In the next lab you'll see how to add convolutions to your Fashion MNIST neural network to make it more efficient -- because it will classify based on features, and not on raw pixels. "
      ]
    }
  ]
}